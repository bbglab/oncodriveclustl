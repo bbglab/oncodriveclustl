{
 "cells": [
  {
   "cell_type": "markdown",
   "metadata": {},
   "source": [
    "# Oncodriveclustl"
   ]
  },
  {
   "cell_type": "code",
   "execution_count": null,
   "metadata": {
    "collapsed": true
   },
   "outputs": [],
   "source": [
    "%matplotlib inline\n",
    "\n",
    "import gzip\n",
    "from collections import defaultdict\n",
    "\n",
    "import numpy as np\n",
    "from intervaltree import IntervalTree\n",
    "from scipy.signal import argrelmax\n",
    "import math as m\n",
    "\n",
    "import matplotlib.pyplot as plt\n",
    "from matplotlib.patches import Rectangle\n",
    "\n",
    "from oncodcl_funct import *"
   ]
  },
  {
   "cell_type": "markdown",
   "metadata": {},
   "source": [
    "### Parse regions"
   ]
  },
  {
   "cell_type": "code",
   "execution_count": null,
   "metadata": {
    "collapsed": true
   },
   "outputs": [],
   "source": [
    "input_regions = '/home/carnedo/projects/oncodriveclustl/inputs/regions/02_cds.regions.gz'"
   ]
  },
  {
   "cell_type": "code",
   "execution_count": null,
   "metadata": {},
   "outputs": [],
   "source": [
    "trees, regions_d = regions(input_regions)"
   ]
  },
  {
   "cell_type": "markdown",
   "metadata": {},
   "source": [
    "### Read mutations file and intersect with regions"
   ]
  },
  {
   "cell_type": "code",
   "execution_count": null,
   "metadata": {
    "collapsed": true
   },
   "outputs": [],
   "source": [
    "input_mutations = '/home/carnedo/projects/oncodriveclustl/inputs/mutations/pancanatlas/BLCA.txt'"
   ]
  },
  {
   "cell_type": "code",
   "execution_count": null,
   "metadata": {
    "collapsed": true
   },
   "outputs": [],
   "source": [
    "mutations_d = read_mutations(input_mutations, trees)"
   ]
  },
  {
   "cell_type": "markdown",
   "metadata": {},
   "source": [
    "### Smooth"
   ]
  },
  {
   "cell_type": "code",
   "execution_count": null,
   "metadata": {
    "scrolled": true
   },
   "outputs": [],
   "source": [
    "total_regions = defaultdict(dict)\n",
    "\n",
    "for gene in regions_d.keys():\n",
    "    # Analyze only genes with mutations >= 3\n",
    "    if len(mutations_d[gene]) >= 3:\n",
    "        region_info = smoothing(symbol=gene, regions=regions_d, mutations=mutations_d[gene], window=50)\n",
    "        # dictionary with regions of all genes\n",
    "        total_regions[region_info['symbol']] = region_info\n",
    "\n",
    "len(total_regions.keys())"
   ]
  },
  {
   "cell_type": "code",
   "execution_count": null,
   "metadata": {},
   "outputs": [],
   "source": [
    "# Plot results\n",
    "plt.figure(figsize=(20, 7.5))\n",
    "ax1 = plt.subplot2grid((1, 5), (0, 0), colspan=4)\n",
    "\n",
    "ax1.plot(total_regions['TP53']['binary'], c='cornflowerblue')\n",
    "ax1.set_ylabel('score after smooth', color='cornflowerblue')\n",
    "\n",
    "ax2 = ax1.twinx()\n",
    "ax2.plot(total_regions['TP53']['mutations'], c='red')\n",
    "ax2.set_ylabel('n mutations', color='red')\n",
    "\n",
    "length = len(total_regions['TP53']['genomic'])\n",
    "\n",
    "ax1.tick_params('y', colors='cornflowerblue')\n",
    "ax2.tick_params('y', colors='red')"
   ]
  },
  {
   "cell_type": "markdown",
   "metadata": {
    "collapsed": true
   },
   "source": [
    "## Clusters"
   ]
  },
  {
   "cell_type": "markdown",
   "metadata": {},
   "source": [
    "- Find local maximum and minimum after smoothing for whole cds, according to smoothing score\n",
    "- Define raw clusters: min(left), max, min(right) ----> Add filter? (ex. clusters wit max > smoothing score of 1 mutation)\n",
    "- Starting from first maximum in the sequence, search for other relative maximum close to its min(right) border. \n",
    "- If there is one, check which of both maximum has a higher smoothing score and merge clusters by updating borders of the highest maximum. The lowest maximum (cluster) is removed from the dictionary of clusters. Iterate through all clusters until no updates are observed. \n",
    "- Score clusters. Two scores implemented: using position of smoothing maximum or mutation maximum within the cluster. "
   ]
  },
  {
   "cell_type": "code",
   "execution_count": null,
   "metadata": {
    "scrolled": false
   },
   "outputs": [],
   "source": [
    "total_clusters = defaultdict(dict)\n",
    "\n",
    "for gene in total_regions.keys():\n",
    "    clusters = clustering(regions=total_regions[gene], mutations=mutations_d[gene], window=25)\n",
    "    total_clusters[gene] = clusters\n",
    "    \n",
    "print(len(total_clusters.keys()))"
   ]
  },
  {
   "cell_type": "code",
   "execution_count": null,
   "metadata": {},
   "outputs": [],
   "source": [
    "# plot clusters\n",
    "\n",
    "gene = 'TP53'\n",
    "\n",
    "plot_max = np.zeros(len(total_regions[gene]['binary']))\n",
    "plot_min_l = np.zeros(len(total_regions[gene]['binary']))\n",
    "plot_min_r = np.zeros(len(total_regions[gene]['binary']))\n",
    "\n",
    "for key, value in total_clusters[gene].items(): \n",
    "    plot_max[value['max'][0]]+=1\n",
    "    plot_min_l[value['min_l'][0]]+=1\n",
    "    plot_min_r[value['min_r'][0]]+=1\n",
    "\n",
    "    # Change 0 to nan for matplotlib        \n",
    "plot_max[ plot_max==0.0 ] = np.nan\n",
    "plot_min_l[ plot_min_l==0.0 ] = np.nan \n",
    "plot_min_r[ plot_min_r==0.0 ] = np.nan\n",
    "\n",
    "plt.figure(figsize=(20, 5))\n",
    "ax1 = plt.subplot2grid((1, 5), (0, 0), colspan=4)\n",
    "\n",
    "ax1.plot(total_regions[gene]['binary'], c='cornflowerblue')\n",
    "ax1.set_ylabel('smoothing score', color='cornflowerblue')\n",
    "\n",
    "ax2 = ax1.twinx()\n",
    "ax2.plot(total_regions[gene]['mutations'], c='red')\n",
    "ax2.set_ylabel('n mutations', color='red')\n",
    "\n",
    "\n",
    "ax1.plot(plot_max,'|', ms=20, c='green')\n",
    "ax1.plot(plot_min_l,'|', ms=20, c='orange')\n",
    "ax1.plot(plot_min_r,'|', ms=20, c='orange')\n",
    "\n",
    "length = len(total_regions[gene]['binary'])\n",
    "\n",
    "ax1.tick_params('y', colors='cornflowerblue')\n",
    "ax2.tick_params('y', colors='red')"
   ]
  },
  {
   "cell_type": "code",
   "execution_count": null,
   "metadata": {
    "collapsed": true
   },
   "outputs": [],
   "source": [
    "scores_table = '/home/carnedo/projects/oncodriveclustl/outputs/scores_table_3_50_25.txt'"
   ]
  },
  {
   "cell_type": "code",
   "execution_count": null,
   "metadata": {},
   "outputs": [],
   "source": [
    "#### Print table\n",
    "with open(scores_table, 'w') as fd:\n",
    "    fd.write('Gene\\tCluster\\tMin_l\\tMax\\tMin_l\\tWidth\\tMut\\tScore\\t\\n')\n",
    "    for gene, clusters in sorted(total_clusters.items()): \n",
    "        for cluster, values in clusters.items(): \n",
    "            if values['min_l'] != [] and values['min_r'] != []: \n",
    "                width = abs(values['min_l'][0] - values['min_r'][0])\n",
    "                fd.write(\"%s\\t%s\\t%s\\t%s\\t%s\\t%s\\t%s\\t%.4f\\n\" %(gene, cluster, values['min_l'][0], values['max'][0], values['min_r'][0], width, len(mutations_d[gene]), values['score']))\n",
    "            elif values['min_l'] == []: \n",
    "                width = abs(values['max'][0] - values['min_r'][0])\n",
    "                fd.write(\"%s\\t%s\\t%s\\t%s\\t%s\\t%s\\t%s\\t%.4f\\n\" %(gene, cluster, values['min_l'], values['max'][0], values['min_r'][0], width, len(mutations_d[gene]), values['score']))\n",
    "            elif values['min_r'] == []: \n",
    "                width = abs(values['min_l'][0] - values['max'][0])\n",
    "                fd.write(\"%s\\t%s\\t%s\\t%s\\t%s\\t%s\\t%s\\t%.4f\\n\" %(gene, cluster, values['min_l'][0], values['max'][0], values['min_r'], width, len(mutations_d[gene]), values['score']))\n"
   ]
  }
 ],
 "metadata": {
  "kernelspec": {
   "display_name": "Python [conda env:oncodriveclustl]",
   "language": "python",
   "name": "conda-env-oncodriveclustl-py"
  },
  "language_info": {
   "codemirror_mode": {
    "name": "ipython",
    "version": 3
   },
   "file_extension": ".py",
   "mimetype": "text/x-python",
   "name": "python",
   "nbconvert_exporter": "python",
   "pygments_lexer": "ipython3",
   "version": "3.5.3"
  }
 },
 "nbformat": 4,
 "nbformat_minor": 1
}
