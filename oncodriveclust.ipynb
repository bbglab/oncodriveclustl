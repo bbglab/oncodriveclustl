{
 "cells": [
  {
   "cell_type": "markdown",
   "metadata": {},
   "source": [
    "# OncodriveCLUSTL"
   ]
  },
  {
   "cell_type": "markdown",
   "metadata": {},
   "source": [
    "### Import modules"
   ]
  },
  {
   "cell_type": "code",
   "execution_count": 1,
   "metadata": {
    "ExecuteTime": {
     "end_time": "2017-02-07T16:44:49.624112",
     "start_time": "2017-02-07T16:44:48.949452"
    },
    "collapsed": true
   },
   "outputs": [],
   "source": [
    "%matplotlib inline\n",
    "import os\n",
    "from functools import partial\n",
    "from multiprocessing import Pool\n",
    "from concurrent.futures import ProcessPoolExecutor as Pool\n",
    "from collections import namedtuple\n",
    "\n",
    "from tqdm import tqdm\n",
    "import matplotlib.pyplot as plt\n",
    "from matplotlib.patches import Rectangle\n",
    "import numpy as np\n",
    "import pandas as pd\n",
    "\n",
    "import oncodriveclustl as clst"
   ]
  },
  {
   "cell_type": "markdown",
   "metadata": {},
   "source": [
    "### Automatically incorporates changes in the *oncodriveclusts* module "
   ]
  },
  {
   "cell_type": "code",
   "execution_count": 2,
   "metadata": {
    "ExecuteTime": {
     "end_time": "2017-02-07T16:44:50.262855",
     "start_time": "2017-02-07T16:44:50.209318"
    },
    "collapsed": false
   },
   "outputs": [],
   "source": [
    "%load_ext autoreload\n",
    "%autoreload 2"
   ]
  },
  {
   "cell_type": "markdown",
   "metadata": {},
   "source": [
    "### Configure the logger"
   ]
  },
  {
   "cell_type": "code",
   "execution_count": 3,
   "metadata": {
    "ExecuteTime": {
     "end_time": "2017-02-07T16:44:50.867399",
     "start_time": "2017-02-07T16:44:50.812578"
    },
    "collapsed": true
   },
   "outputs": [],
   "source": [
    "import logging\n",
    "logging.basicConfig(format='%(asctime)s %(levelname)s: %(message)s', datefmt='%H:%M:%S', level=logging.INFO)"
   ]
  },
  {
   "cell_type": "markdown",
   "metadata": {},
   "source": [
    "### Global Variables"
   ]
  },
  {
   "cell_type": "markdown",
   "metadata": {},
   "source": [
    "#### Equivalent to this command line:\n",
    "    python oncodriveclustl.py \n",
    "        -r inputs/regions/02_cds.regions.gz \n",
    "        -w 51 \n",
    "        -m subs \n",
    "        -n 100 \n",
    "        -c 4 \n",
    "        -e TP53 -e EEA1 \n",
    "        inputs/mutations/Bladder-TCC.txt \n",
    "        outputs/Bladder-TCC.oncodriveclustl.tsv"
   ]
  },
  {
   "cell_type": "code",
   "execution_count": 4,
   "metadata": {
    "ExecuteTime": {
     "end_time": "2017-02-07T16:44:51.373029",
     "start_time": "2017-02-07T16:44:51.326526"
    },
    "collapsed": true
   },
   "outputs": [],
   "source": [
    "NUM_SIMULATIONS = 100\n",
    "INPUT_FILE = os.path.join('inputs', 'mutations', 'Bladder-TCC.txt')\n",
    "OUTPUT_DIR = 'outputs'\n",
    "OUTPUT_FILE = os.path.join(OUTPUT_DIR, os.path.splitext(os.path.basename(INPUT_FILE))[0] + \".oncodriveclustl.tsv\")\n",
    "REGION_FILE = os.path.join('inputs', 'regions', '02_cds.regions.gz')\n",
    "DRIVERS_FILE = os.path.join('inputs', 'CGCMay17_cancer_types_TCGA.tsv')\n",
    "ELEMENTS = ['TP53', 'EEA1']  # None\n",
    "WINDOW_SIZE = 51\n",
    "MUTATION_TYPE = 'subs'\n",
    "SIGNATURE = None\n",
    "ABSOLUTE_MAX_PEAK = True\n",
    "CORES = 4\n",
    "DEBUG = True"
   ]
  },
  {
   "cell_type": "code",
   "execution_count": 5,
   "metadata": {},
   "outputs": [],
   "source": [
    "Results = namedtuple('Results', ' '.join(['symbol', 'geneid', 'pvalues', 'pos_pvalues',\n",
    "                                          'mutations', 'mutations_index', 'obs_max',\n",
    "                                          'obs_peaks_values', 'obs_peaks_index', 'borders',\n",
    "                                          'fragments', 'smoothed', 'num_mutations',\n",
    "                                          'random_maxs']))"
   ]
  },
  {
   "cell_type": "markdown",
   "metadata": {},
   "source": [
    "### Read the region file"
   ]
  },
  {
   "cell_type": "code",
   "execution_count": 6,
   "metadata": {},
   "outputs": [
    {
     "name": "stderr",
     "output_type": "stream",
     "text": [
      "19:57:41 INFO: Loading genomic regions...\n"
     ]
    },
    {
     "name": "stdout",
     "output_type": "stream",
     "text": [
      "CPU times: user 484 ms, sys: 0 ns, total: 484 ms\n",
      "Wall time: 481 ms\n"
     ]
    }
   ],
   "source": [
    "%%time\n",
    "\n",
    "elements = set([]) if ELEMENTS is None else set(ELEMENTS)\n",
    "regions_tree, regions_dict = clst.build_regions(REGION_FILE, 'genomic', elements)\n",
    "regions_names = set(regions_dict.keys())\n",
    "\n",
    "if len(elements) > 0:\n",
    "    for element in elements - regions_names:\n",
    "        logger.warning('element %s not found', element)"
   ]
  },
  {
   "cell_type": "markdown",
   "metadata": {},
   "source": [
    "### Tukey function"
   ]
  },
  {
   "cell_type": "code",
   "execution_count": 7,
   "metadata": {},
   "outputs": [],
   "source": [
    "clst.tukey_filter = clst.tukey(WINDOW_SIZE)"
   ]
  },
  {
   "cell_type": "markdown",
   "metadata": {},
   "source": [
    "### Read the mutations files"
   ]
  },
  {
   "cell_type": "code",
   "execution_count": 8,
   "metadata": {},
   "outputs": [
    {
     "name": "stderr",
     "output_type": "stream",
     "text": [
      "19:57:44 INFO: Mapping mutations ..\n"
     ]
    },
    {
     "name": "stdout",
     "output_type": "stream",
     "text": [
      "CPU times: user 1.68 s, sys: 0 ns, total: 1.68 s\n",
      "Wall time: 1.68 s\n"
     ]
    }
   ],
   "source": [
    "%%time\n",
    "\n",
    "mutations = clst.map_mutations_to_regions(\n",
    "    mutations_file=INPUT_FILE,\n",
    "    regions_tree=regions_tree,\n",
    "    mutation_type=MUTATION_TYPE\n",
    ")"
   ]
  },
  {
   "cell_type": "code",
   "execution_count": 9,
   "metadata": {},
   "outputs": [
    {
     "data": {
      "text/plain": [
       "[('EEA1',\n",
       "  {Mutation(chromosome='12', position='93258690', ref='T', alt='C', sample='df8a913c-5160-4fc5-950d-7c890e24e820', type='subs', cancer_type='Bladder-TCC')}),\n",
       " ('TP53',\n",
       "  {Mutation(chromosome='17', position='7577108', ref='C', alt='A', sample='b73523d7-f5a5-4140-8537-4df4d1ecf465', type='subs', cancer_type='Bladder-TCC'),\n",
       "   Mutation(chromosome='17', position='7577127', ref='C', alt='T', sample='cda1a403-16b6-487c-a82a-c377d1d0f89d', type='subs', cancer_type='Bladder-TCC'),\n",
       "   Mutation(chromosome='17', position='7577538', ref='C', alt='T', sample='4838b5a9-968c-4178-bffb-3fafe1f6dc09', type='subs', cancer_type='Bladder-TCC'),\n",
       "   Mutation(chromosome='17', position='7577539', ref='G', alt='A', sample='2b142863-b963-4cc9-8f8f-c72503c93390', type='subs', cancer_type='Bladder-TCC'),\n",
       "   Mutation(chromosome='17', position='7577568', ref='C', alt='A', sample='f389176f-d8f3-45c2-aae4-7378a3d6fc7f', type='subs', cancer_type='Bladder-TCC'),\n",
       "   Mutation(chromosome='17', position='7578190', ref='T', alt='C', sample='0c7aca3f-e006-4de3-afc2-20b4f727d4fd', type='subs', cancer_type='Bladder-TCC'),\n",
       "   Mutation(chromosome='17', position='7578208', ref='T', alt='C', sample='418a3dec-96ff-4719-becb-e1a8260cce2f', type='subs', cancer_type='Bladder-TCC'),\n",
       "   Mutation(chromosome='17', position='7578211', ref='C', alt='T', sample='45a7949d-e63f-4956-866c-df51257032de', type='subs', cancer_type='Bladder-TCC'),\n",
       "   Mutation(chromosome='17', position='7578449', ref='C', alt='T', sample='448fe471-3f4e-4dc8-a4e0-6f147dc93abe', type='subs', cancer_type='Bladder-TCC')})]"
      ]
     },
     "execution_count": 9,
     "metadata": {},
     "output_type": "execute_result"
    }
   ],
   "source": [
    "# This is how the mutations look like\n",
    "list(mutations.items())[:2]"
   ]
  },
  {
   "cell_type": "markdown",
   "metadata": {},
   "source": [
    "### FInd clusters"
   ]
  },
  {
   "cell_type": "code",
   "execution_count": 10,
   "metadata": {},
   "outputs": [
    {
     "name": "stderr",
     "output_type": "stream",
     "text": [
      "\r",
      "  0%|          | 0/2 [00:00<?, ?it/s]\r",
      "100%|██████████| 2/2 [00:00<00:00, 12.96it/s]\n"
     ]
    }
   ],
   "source": [
    "results = {}\n",
    "with Pool(max_workers=CORES) as executor, tqdm(total=len(mutations)) as pbar:\n",
    "    fx = partial(\n",
    "        clst.cluster_element,\n",
    "        regions=regions_dict,\n",
    "        num_simulations=NUM_SIMULATIONS,\n",
    "        window_size=WINDOW_SIZE,\n",
    "        signature=SIGNATURE,\n",
    "        absolute_max_peak=ABSOLUTE_MAX_PEAK\n",
    "    )\n",
    "    map_method = map if DEBUG else executor.map\n",
    "    for geneid, result in map_method(fx, mutations.items()):\n",
    "        pbar.update(1)\n",
    "        results[geneid] = Results(**result)"
   ]
  },
  {
   "cell_type": "code",
   "execution_count": 11,
   "metadata": {},
   "outputs": [
    {
     "data": {
      "text/plain": [
       "{'EEA1': Results(symbol=None, geneid='EEA1', pvalues=[nan], pos_pvalues=array([ 1.,  1.,  1., ...,  1.,  1.,  1.]), mutations=[93258690], mutations_index=array([4042]), obs_max=0.036057697239255629, obs_peaks_values=[], obs_peaks_index=[], borders={(3435, 3591): (93244887, 93245043), (3591, 3713): (93245951, 93246073), (897, 1083): (93175726, 93175912), (4209, 4233): (93322819, 93322843), (340, 579): (93171717, 93171956), (1461, 1563): (93195376, 93195478), (120, 219): (93170620, 93170719), (0, 120): (93169790, 93169910), (3827, 3867): (93247691, 93247731), (765, 897): (93174056, 93174188), (1894, 2034): (93202793, 93202933), (2190, 2304): (93206756, 93206870), (579, 765): (93172891, 93173077), (3318, 3435): (93236241, 93236358), (1266, 1461): (93192668, 93192863), (2709, 2829): (93219942, 93220062), (3867, 3933): (93251051, 93251117), (219, 340): (93171319, 93171440), (2979, 3318): (93226288, 93226627), (2505, 2709): (93213084, 93213288), (1083, 1266): (93181643, 93181826), (2829, 2979): (93221688, 93221838), (1563, 1894): (93196180, 93196511), (2034, 2190): (93205055, 93205211), (3713, 3827): (93246688, 93246802), (3988, 4116): (93258636, 93258764), (2304, 2505): (93209976, 93210177), (4116, 4209): (93285405, 93285498), (3933, 3988): (93251207, 93251262)}, fragments={('12', 93202793, 93202933), ('12', 93175726, 93175912), ('12', 93174056, 93174188), ('12', 93172891, 93173077), ('12', 93205055, 93205211), ('12', 93247691, 93247731), ('12', 93195376, 93195478), ('12', 93192668, 93192863), ('12', 93244887, 93245043), ('12', 93209976, 93210177), ('12', 93169790, 93169910), ('12', 93322819, 93322843), ('12', 93213084, 93213288), ('12', 93245951, 93246073), ('12', 93170620, 93170719), ('12', 93236241, 93236358), ('12', 93251051, 93251117), ('12', 93206756, 93206870), ('12', 93246688, 93246802), ('12', 93226288, 93226627), ('12', 93285405, 93285498), ('12', 93251207, 93251262), ('12', 93171319, 93171440), ('12', 93219942, 93220062), ('12', 93258636, 93258764), ('12', 93196180, 93196511), ('12', 93181643, 93181826), ('12', 93221688, 93221838), ('12', 93171717, 93171956)}, smoothed=array([ 0.,  0.,  0., ...,  0.,  0.,  0.]), num_mutations=1, random_maxs=array([ 0.0360577,  0.0360577,  0.0360577,  0.0360577,  0.0360577,\n",
       "        0.0360577,  0.0360577,  0.0360577,  0.0360577,  0.0360577,\n",
       "        0.0360577,  0.0360577,  0.0360577,  0.0360577,  0.0360577,\n",
       "        0.0360577,  0.0360577,  0.0360577,  0.0360577,  0.0360577,\n",
       "        0.0360577,  0.0360577,  0.0360577,  0.0360577,  0.0360577,\n",
       "        0.0360577,  0.0360577,  0.0360577,  0.0360577,  0.0360577,\n",
       "        0.0360577,  0.0360577,  0.0360577,  0.0360577,  0.0360577,\n",
       "        0.0360577,  0.0360577,  0.0360577,  0.0360577,  0.0360577,\n",
       "        0.0360577,  0.0360577,  0.0360577,  0.0360577,  0.0360577,\n",
       "        0.0360577,  0.0360577,  0.0360577,  0.0360577,  0.0360577,\n",
       "        0.0360577,  0.0360577,  0.0360577,  0.0360577,  0.0360577,\n",
       "        0.0360577,  0.0360577,  0.0360577,  0.0360577,  0.0360577,\n",
       "        0.0360577,  0.0360577,  0.0360577,  0.0360577,  0.0360577,\n",
       "        0.0360577,  0.0360577,  0.0360577,  0.0360577,  0.0360577,\n",
       "        0.0360577,  0.0360577,  0.0360577,  0.0360577,  0.0360577,\n",
       "        0.0360577,  0.0360577,  0.0360577,  0.0360577,  0.0360577,\n",
       "        0.0360577,  0.0360577,  0.0360577,  0.0360577,  0.0360577,\n",
       "        0.0360577,  0.0360577,  0.0360577,  0.0360577,  0.0360577,\n",
       "        0.0360577,  0.0360577,  0.0360577,  0.0360577,  0.0360577,\n",
       "        0.0360577,  0.0360577,  0.0360577,  0.0360577,  0.0360577])),\n",
       " 'TP53': Results(symbol=None, geneid='TP53', pvalues=[0.059999999999999998], pos_pvalues=array([ 1.,  1.,  1., ...,  1.,  1.,  1.]), mutations=[7578211, 7577539, 7577538, 7578208, 7578190, 7577127, 7577568, 7578449, 7577108], mutations_index=array([725, 621, 620, 722, 704, 552, 650, 882, 533]), obs_max=0.083570587556711012, obs_peaks_values=array([ 0.08357059]), obs_peaks_index=(array([718]),), borders={(295, 340): (7576540, 7576585), (73, 109): (7569527, 7569563), (804, 988): (7578371, 7578555), (444, 581): (7577019, 7577156), (691, 804): (7578177, 7578290), (581, 691): (7577499, 7577609), (109, 188): (7572930, 7573009), (1267, 1289): (7579700, 7579722), (370, 444): (7576853, 7576927), (0, 73): (7565260, 7565333), (340, 370): (7576628, 7576658), (188, 295): (7573927, 7574034), (1289, 1363): (7579839, 7579913), (988, 1267): (7579312, 7579591)}, fragments={('17', 7578177, 7578290), ('17', 7576628, 7576658), ('17', 7579839, 7579913), ('17', 7577499, 7577609), ('17', 7579700, 7579722), ('17', 7573927, 7574034), ('17', 7579312, 7579591), ('17', 7578371, 7578555), ('17', 7576853, 7576927), ('17', 7572930, 7573009), ('17', 7577019, 7577156), ('17', 7565260, 7565333), ('17', 7569527, 7569563), ('17', 7576540, 7576585)}, smoothed=array([ 0.,  0.,  0., ...,  0.,  0.,  0.]), num_mutations=9, random_maxs=array([ 0.07126448,  0.06781105,  0.07158334,  0.04860943,  0.03846217,\n",
       "        0.06333934,  0.06874205,  0.04663673,  0.0620397 ,  0.0360577 ,\n",
       "        0.07190219,  0.06575952,  0.06575952,  0.07020794,  0.05048351,\n",
       "        0.10449509,  0.03635943,  0.0360577 ,  0.07190219,  0.06463899,\n",
       "        0.09799079,  0.03635943,  0.06463899,  0.06781105,  0.07073621,\n",
       "        0.07020794,  0.07190219,  0.04261447,  0.07126448,  0.06333934,\n",
       "        0.08697297,  0.0360577 ,  0.05586869,  0.07158334,  0.07190219,\n",
       "        0.06688005,  0.06874205,  0.069475  ,  0.04056491,  0.04056491,\n",
       "        0.0620397 ,  0.0360577 ,  0.07190219,  0.07748543,  0.05048351,\n",
       "        0.07190219,  0.0360577 ,  0.0360577 ,  0.07126448,  0.07020794,\n",
       "        0.07126448,  0.0360577 ,  0.07200879,  0.0360577 ,  0.05586869,\n",
       "        0.06688005,  0.07190219,  0.05411314,  0.08430354,  0.0360577 ,\n",
       "        0.05748775,  0.0360577 ,  0.06688005,  0.05411314,  0.07856556,\n",
       "        0.0360577 ,  0.07126448,  0.0620397 ,  0.0360577 ,  0.07020794,\n",
       "        0.07200879,  0.08217318,  0.07126448,  0.0360577 ,  0.069475  ,\n",
       "        0.07200879,  0.0620397 ,  0.0360577 ,  0.04056491,  0.07020794,\n",
       "        0.07211539,  0.10527262,  0.07158334,  0.07190219,  0.0803096 ,\n",
       "        0.09750513,  0.06688005,  0.06057325,  0.07200879,  0.05748775,\n",
       "        0.07126448,  0.05411314,  0.07073621,  0.07190219,  0.06057325,\n",
       "        0.0360577 ,  0.03846217,  0.05411314,  0.07073621,  0.06333934]))}"
      ]
     },
     "execution_count": 11,
     "metadata": {},
     "output_type": "execute_result"
    }
   ],
   "source": [
    "# This is how the results look like\n",
    "results"
   ]
  },
  {
   "cell_type": "markdown",
   "metadata": {},
   "source": [
    "### Plot of the clusters"
   ]
  },
  {
   "cell_type": "code",
   "execution_count": 12,
   "metadata": {
    "ExecuteTime": {
     "end_time": "2017-02-07T16:46:00.606995",
     "start_time": "2017-02-07T16:46:00.521021"
    },
    "code_folding": [],
    "collapsed": false
   },
   "outputs": [],
   "source": [
    "def plot_clusters(symbol, results):\n",
    "    \"\"\"Graphical representation of the clusters\"\"\"\n",
    "    with plt.style.context('default'):\n",
    "        # Layout\n",
    "        plt.figure(figsize=(9, 3))\n",
    "        ax1 = plt.subplot2grid((1, 5), (0, 0), colspan=4)\n",
    "        ax3 = plt.subplot2grid((1, 5), (0, 4))\n",
    "\n",
    "        data = results[symbol]\n",
    "\n",
    "        # Plot the smoothing\n",
    "        ax1.plot(data.smoothed, c='cornflowerblue')\n",
    "        length = len(data.smoothed)\n",
    "        ax1.set_ylabel('cluster value', color='cornflowerblue')\n",
    "        ax1.tick_params('y', colors='cornflowerblue')\n",
    "        \n",
    "        # Plot the pvalue of each position\n",
    "        ax2 = ax1.twinx()\n",
    "        fx = np.vectorize(lambda x: 1 / NUM_SIMULATIONS if x == 0 else x)\n",
    "        x = fx(data.pos_pvalues)\n",
    "        ax2.plot(-1 * np.log10(x), c='orange')\n",
    "        ax2.set_ylabel('positional pvalue (-log10)', color='orange')\n",
    "        ax2.tick_params('y', colors='orange')\n",
    "\n",
    "        # Plot the significat cutoffs\n",
    "        ax1.hlines(np.max(data.random_maxs), 0, length, colors='r', linestyles='dashed')\n",
    "        ax1.hlines(np.mean(data.random_maxs), 0, length, colors='r', linestyles='dashed')\n",
    "        ax1.hlines(np.min(data.random_maxs), 0, length, colors='r', linestyles='dashed')\n",
    "\n",
    "        # Rug\n",
    "        ax1.plot(data.mutations_index, np.zeros(len(data.mutations_index)), '|', ms=20)  # 'b+', [0.05] * len(data.mutations)\n",
    "\n",
    "        # Title and limits\n",
    "        ax1.set_title(symbol)\n",
    "        ax1.set_xlim(0, length)\n",
    "        ax1.set_ylim(0, max(max(data.smoothed), max(data.random_maxs)) * 1.1)\n",
    "        ax2.set_ylim(0, ax2.get_ylim()[1])\n",
    "        \n",
    "        # Plot the borders\n",
    "        for x in [k[1] for k in data.borders.keys()]:\n",
    "            ax1.vlines(x, 0, ax1.get_ylim()[1], colors='grey', linestyles='dashed')\n",
    "            # poly = Rectangle(xy=(x, 0), width=20, height=0.2, color='grey', alpha=0.5)\n",
    "            # ax1.add_patch(poly)\n",
    "\n",
    "        # Boxplot\n",
    "        res = ax3.boxplot(data.random_maxs)\n",
    "        ax3.set_ylim((0, ax1.get_ylim()[1]))\n",
    "\n",
    "        # Add a IQR line to ax\n",
    "        ax1.hlines(res['caps'][1].get_ydata()[0], 0, length, colors='b', linestyles='dashed')\n",
    "        \n",
    "        # Add the p-value\n",
    "        ax1.text(\n",
    "            x=ax1.get_xlim()[1] * 0.9, \n",
    "            y=ax1.get_ylim()[1] * 0.9, \n",
    "            s='{:.4f}'.format(data.pvalues[0]),\n",
    "            fontsize=10,\n",
    "            bbox={'facecolor': 'grey', 'alpha': 0.5, 'pad': 0.5, 'boxstyle': 'round4', 'ec': 'k'}\n",
    "        )\n",
    "\n",
    "        # Show the plot\n",
    "        plt.tight_layout()\n",
    "        plt.show()"
   ]
  },
  {
   "cell_type": "code",
   "execution_count": 14,
   "metadata": {
    "ExecuteTime": {
     "end_time": "2017-02-07T16:46:04.407015",
     "start_time": "2017-02-07T16:46:02.074376"
    },
    "collapsed": false
   },
   "outputs": [
    {
     "data": {
      "image/png": "[encoded data removed]",
      "text/plain": [
       "<matplotlib.figure.Figure at 0x7fa474727d68>"
      ]
     },
     "metadata": {},
     "output_type": "display_data"
    },
    {
     "data": {
      "image/png": "[encoded data removed]",
      "text/plain": [
       "<matplotlib.figure.Figure at 0x7fa474727f98>"
      ]
     },
     "metadata": {},
     "output_type": "display_data"
    }
   ],
   "source": [
    "for element in elements:\n",
    "    plot_clusters(element, results)"
   ]
  },
  {
   "cell_type": "markdown",
   "metadata": {},
   "source": [
    "### QQ-plot"
   ]
  },
  {
   "cell_type": "code",
   "execution_count": 38,
   "metadata": {
    "ExecuteTime": {
     "end_time": "2017-02-03T11:40:18.442040",
     "start_time": "2017-02-03T11:40:18.352135"
    },
    "collapsed": false
   },
   "outputs": [],
   "source": [
    "DRIVERS = set([line.split('\\t')[0] for line in open(DRIVERS_FILE, 'r')])\n",
    "\n",
    "\n",
    "def is_driver(gene):\n",
    "    return gene in DRIVERS\n",
    "\n",
    "\n",
    "def qqplot(input_file):\n",
    "    fig = plt.figure(figsize=(6, 6))\n",
    "    ax = plt.subplot2grid((1, 1), (0, 0))\n",
    "    \n",
    "    df = pd.read_csv(input_file, header=0, sep=\"\\t\")\n",
    "    df = df[np.isfinite(df['PVALUE'])].copy()\n",
    "    \n",
    "    y = sorted(df['PVALUE'].map(lambda y: -1 * np.log10(y) if y > 0 else -1 * np.log10(1 / NUM_RANDOMIZATIONS)))\n",
    "    x = sorted([-1 * np.log10(x) for x in np.linspace(1 / len(y), 1, len(y))])\n",
    "    \n",
    "    z = range(int(max(max(y), max(x)) + 1))\n",
    "    ax.plot(z, z, c='orange')\n",
    "    ax.scatter(x, y, c='cornflowerblue', alpha=0.5)\n",
    "    \n",
    "    df['DRIVER'] = df['SYMBOL'].map(is_driver)\n",
    "    return df"
   ]
  },
  {
   "cell_type": "code",
   "execution_count": 39,
   "metadata": {
    "ExecuteTime": {
     "end_time": "2017-02-03T11:40:19.415283",
     "start_time": "2017-02-03T11:40:19.101807"
    },
    "collapsed": false
   },
   "outputs": [
    {
     "data": {
      "image/png": "[encoded data removed]",
      "text/plain": [
       "<matplotlib.figure.Figure at 0x7f17454e00f0>"
      ]
     },
     "metadata": {},
     "output_type": "display_data"
    }
   ],
   "source": [
    "df = qqplot(OUTPUT_FILE)"
   ]
  },
  {
   "cell_type": "code",
   "execution_count": 40,
   "metadata": {
    "ExecuteTime": {
     "end_time": "2017-02-03T11:05:40.845390",
     "start_time": "2017-02-03T11:05:40.800470"
    },
    "collapsed": false
   },
   "outputs": [
    {
     "data": {
      "text/html": [
       "<div>\n",
       "<table border=\"1\" class=\"dataframe\">\n",
       "  <thead>\n",
       "    <tr style=\"text-align: right;\">\n",
       "      <th></th>\n",
       "      <th>SYMBOL</th>\n",
       "      <th>GENEID</th>\n",
       "      <th>PVALUE</th>\n",
       "      <th>MAX_SCORE</th>\n",
       "      <th>DRIVER</th>\n",
       "    </tr>\n",
       "  </thead>\n",
       "  <tbody>\n",
       "    <tr>\n",
       "      <th>5775</th>\n",
       "      <td>SF3B1</td>\n",
       "      <td>ENSG00000115524</td>\n",
       "      <td>0.0000</td>\n",
       "      <td>0.340911</td>\n",
       "      <td>False</td>\n",
       "    </tr>\n",
       "    <tr>\n",
       "      <th>266</th>\n",
       "      <td>NSRP1</td>\n",
       "      <td>ENSG00000126653</td>\n",
       "      <td>0.0000</td>\n",
       "      <td>0.272314</td>\n",
       "      <td>False</td>\n",
       "    </tr>\n",
       "    <tr>\n",
       "      <th>9116</th>\n",
       "      <td>PIK3CA</td>\n",
       "      <td>ENSG00000121879</td>\n",
       "      <td>0.0000</td>\n",
       "      <td>2.214516</td>\n",
       "      <td>False</td>\n",
       "    </tr>\n",
       "    <tr>\n",
       "      <th>3397</th>\n",
       "      <td>AKT1</td>\n",
       "      <td>ENSG00000142208</td>\n",
       "      <td>0.0000</td>\n",
       "      <td>0.511366</td>\n",
       "      <td>False</td>\n",
       "    </tr>\n",
       "    <tr>\n",
       "      <th>1332</th>\n",
       "      <td>TP53</td>\n",
       "      <td>ENSG00000141510</td>\n",
       "      <td>0.0003</td>\n",
       "      <td>0.538254</td>\n",
       "      <td>False</td>\n",
       "    </tr>\n",
       "    <tr>\n",
       "      <th>7734</th>\n",
       "      <td>KCNV1</td>\n",
       "      <td>ENSG00000164794</td>\n",
       "      <td>0.0003</td>\n",
       "      <td>0.187022</td>\n",
       "      <td>False</td>\n",
       "    </tr>\n",
       "    <tr>\n",
       "      <th>6292</th>\n",
       "      <td>USP35</td>\n",
       "      <td>ENSG00000118369</td>\n",
       "      <td>0.0006</td>\n",
       "      <td>0.169052</td>\n",
       "      <td>False</td>\n",
       "    </tr>\n",
       "    <tr>\n",
       "      <th>4943</th>\n",
       "      <td>NPHP4</td>\n",
       "      <td>ENSG00000131697</td>\n",
       "      <td>0.0006</td>\n",
       "      <td>0.169052</td>\n",
       "      <td>False</td>\n",
       "    </tr>\n",
       "    <tr>\n",
       "      <th>6418</th>\n",
       "      <td>MESDC1</td>\n",
       "      <td>ENSG00000140406</td>\n",
       "      <td>0.0007</td>\n",
       "      <td>0.170455</td>\n",
       "      <td>False</td>\n",
       "    </tr>\n",
       "    <tr>\n",
       "      <th>3823</th>\n",
       "      <td>ARHGEF4</td>\n",
       "      <td>ENSG00000136002</td>\n",
       "      <td>0.0008</td>\n",
       "      <td>0.170455</td>\n",
       "      <td>False</td>\n",
       "    </tr>\n",
       "    <tr>\n",
       "      <th>5613</th>\n",
       "      <td>OR10K1</td>\n",
       "      <td>ENSG00000173285</td>\n",
       "      <td>0.0008</td>\n",
       "      <td>0.170455</td>\n",
       "      <td>False</td>\n",
       "    </tr>\n",
       "    <tr>\n",
       "      <th>73</th>\n",
       "      <td>PTPRQ</td>\n",
       "      <td>ENSG00000139304</td>\n",
       "      <td>0.0008</td>\n",
       "      <td>0.170455</td>\n",
       "      <td>False</td>\n",
       "    </tr>\n",
       "    <tr>\n",
       "      <th>2894</th>\n",
       "      <td>ZNF644</td>\n",
       "      <td>ENSG00000122482</td>\n",
       "      <td>0.0010</td>\n",
       "      <td>0.170455</td>\n",
       "      <td>False</td>\n",
       "    </tr>\n",
       "    <tr>\n",
       "      <th>4470</th>\n",
       "      <td>CHD1</td>\n",
       "      <td>ENSG00000153922</td>\n",
       "      <td>0.0012</td>\n",
       "      <td>0.170455</td>\n",
       "      <td>False</td>\n",
       "    </tr>\n",
       "    <tr>\n",
       "      <th>7442</th>\n",
       "      <td>OR5M3</td>\n",
       "      <td>ENSG00000174937</td>\n",
       "      <td>0.0012</td>\n",
       "      <td>0.170455</td>\n",
       "      <td>False</td>\n",
       "    </tr>\n",
       "    <tr>\n",
       "      <th>8775</th>\n",
       "      <td>MAP3K4</td>\n",
       "      <td>ENSG00000085511</td>\n",
       "      <td>0.0012</td>\n",
       "      <td>0.170455</td>\n",
       "      <td>False</td>\n",
       "    </tr>\n",
       "    <tr>\n",
       "      <th>6716</th>\n",
       "      <td>ABCB10</td>\n",
       "      <td>ENSG00000135776</td>\n",
       "      <td>0.0013</td>\n",
       "      <td>0.170455</td>\n",
       "      <td>False</td>\n",
       "    </tr>\n",
       "    <tr>\n",
       "      <th>5180</th>\n",
       "      <td>TBC1D31</td>\n",
       "      <td>ENSG00000156787</td>\n",
       "      <td>0.0016</td>\n",
       "      <td>0.235745</td>\n",
       "      <td>False</td>\n",
       "    </tr>\n",
       "    <tr>\n",
       "      <th>2483</th>\n",
       "      <td>SMARCA4</td>\n",
       "      <td>ENSG00000127616</td>\n",
       "      <td>0.0019</td>\n",
       "      <td>0.169052</td>\n",
       "      <td>False</td>\n",
       "    </tr>\n",
       "    <tr>\n",
       "      <th>2515</th>\n",
       "      <td>HIST1H2BC</td>\n",
       "      <td>ENSG00000180596</td>\n",
       "      <td>0.0020</td>\n",
       "      <td>0.170455</td>\n",
       "      <td>False</td>\n",
       "    </tr>\n",
       "    <tr>\n",
       "      <th>4179</th>\n",
       "      <td>GNAS</td>\n",
       "      <td>ENSG00000087460</td>\n",
       "      <td>0.0020</td>\n",
       "      <td>0.169052</td>\n",
       "      <td>False</td>\n",
       "    </tr>\n",
       "    <tr>\n",
       "      <th>7187</th>\n",
       "      <td>SHANK1</td>\n",
       "      <td>ENSG00000161681</td>\n",
       "      <td>0.0020</td>\n",
       "      <td>0.170455</td>\n",
       "      <td>False</td>\n",
       "    </tr>\n",
       "    <tr>\n",
       "      <th>497</th>\n",
       "      <td>ACOT2</td>\n",
       "      <td>ENSG00000119673</td>\n",
       "      <td>0.0023</td>\n",
       "      <td>0.170455</td>\n",
       "      <td>False</td>\n",
       "    </tr>\n",
       "    <tr>\n",
       "      <th>3965</th>\n",
       "      <td>LIFR</td>\n",
       "      <td>ENSG00000113594</td>\n",
       "      <td>0.0024</td>\n",
       "      <td>0.163511</td>\n",
       "      <td>False</td>\n",
       "    </tr>\n",
       "    <tr>\n",
       "      <th>3208</th>\n",
       "      <td>TMEM71</td>\n",
       "      <td>ENSG00000165071</td>\n",
       "      <td>0.0025</td>\n",
       "      <td>0.169052</td>\n",
       "      <td>False</td>\n",
       "    </tr>\n",
       "    <tr>\n",
       "      <th>184</th>\n",
       "      <td>STEAP1B</td>\n",
       "      <td>ENSG00000105889</td>\n",
       "      <td>0.0026</td>\n",
       "      <td>0.170455</td>\n",
       "      <td>False</td>\n",
       "    </tr>\n",
       "    <tr>\n",
       "      <th>5797</th>\n",
       "      <td>NOC4L</td>\n",
       "      <td>ENSG00000184967</td>\n",
       "      <td>0.0026</td>\n",
       "      <td>0.167649</td>\n",
       "      <td>False</td>\n",
       "    </tr>\n",
       "    <tr>\n",
       "      <th>5</th>\n",
       "      <td>DOCK11</td>\n",
       "      <td>ENSG00000147251</td>\n",
       "      <td>0.0026</td>\n",
       "      <td>0.170455</td>\n",
       "      <td>False</td>\n",
       "    </tr>\n",
       "    <tr>\n",
       "      <th>165</th>\n",
       "      <td>SPHKAP</td>\n",
       "      <td>ENSG00000153820</td>\n",
       "      <td>0.0029</td>\n",
       "      <td>0.170455</td>\n",
       "      <td>False</td>\n",
       "    </tr>\n",
       "    <tr>\n",
       "      <th>7777</th>\n",
       "      <td>GPR125</td>\n",
       "      <td>ENSG00000152990</td>\n",
       "      <td>0.0030</td>\n",
       "      <td>0.167649</td>\n",
       "      <td>False</td>\n",
       "    </tr>\n",
       "    <tr>\n",
       "      <th>...</th>\n",
       "      <td>...</td>\n",
       "      <td>...</td>\n",
       "      <td>...</td>\n",
       "      <td>...</td>\n",
       "      <td>...</td>\n",
       "    </tr>\n",
       "    <tr>\n",
       "      <th>2055</th>\n",
       "      <td>NTRK3</td>\n",
       "      <td>ENSG00000140538</td>\n",
       "      <td>0.0047</td>\n",
       "      <td>0.167649</td>\n",
       "      <td>False</td>\n",
       "    </tr>\n",
       "    <tr>\n",
       "      <th>609</th>\n",
       "      <td>AATF</td>\n",
       "      <td>ENSG00000108270</td>\n",
       "      <td>0.0048</td>\n",
       "      <td>0.163511</td>\n",
       "      <td>False</td>\n",
       "    </tr>\n",
       "    <tr>\n",
       "      <th>8645</th>\n",
       "      <td>ZHX2</td>\n",
       "      <td>ENSG00000178764</td>\n",
       "      <td>0.0050</td>\n",
       "      <td>0.170455</td>\n",
       "      <td>False</td>\n",
       "    </tr>\n",
       "    <tr>\n",
       "      <th>9036</th>\n",
       "      <td>FAM47A</td>\n",
       "      <td>ENSG00000185448</td>\n",
       "      <td>0.0051</td>\n",
       "      <td>0.167649</td>\n",
       "      <td>False</td>\n",
       "    </tr>\n",
       "    <tr>\n",
       "      <th>3387</th>\n",
       "      <td>DNAH9</td>\n",
       "      <td>ENSG00000007174</td>\n",
       "      <td>0.0053</td>\n",
       "      <td>0.170455</td>\n",
       "      <td>False</td>\n",
       "    </tr>\n",
       "    <tr>\n",
       "      <th>8269</th>\n",
       "      <td>MSANTD3</td>\n",
       "      <td>ENSG00000066697</td>\n",
       "      <td>0.0054</td>\n",
       "      <td>0.167649</td>\n",
       "      <td>False</td>\n",
       "    </tr>\n",
       "    <tr>\n",
       "      <th>4904</th>\n",
       "      <td>OPHN1</td>\n",
       "      <td>ENSG00000079482</td>\n",
       "      <td>0.0055</td>\n",
       "      <td>0.167649</td>\n",
       "      <td>False</td>\n",
       "    </tr>\n",
       "    <tr>\n",
       "      <th>8044</th>\n",
       "      <td>PSD</td>\n",
       "      <td>ENSG00000059915</td>\n",
       "      <td>0.0057</td>\n",
       "      <td>0.163511</td>\n",
       "      <td>False</td>\n",
       "    </tr>\n",
       "    <tr>\n",
       "      <th>5435</th>\n",
       "      <td>HEPH</td>\n",
       "      <td>ENSG00000089472</td>\n",
       "      <td>0.0062</td>\n",
       "      <td>0.095706</td>\n",
       "      <td>False</td>\n",
       "    </tr>\n",
       "    <tr>\n",
       "      <th>6694</th>\n",
       "      <td>TUBB</td>\n",
       "      <td>ENSG00000196230</td>\n",
       "      <td>0.0062</td>\n",
       "      <td>0.169052</td>\n",
       "      <td>False</td>\n",
       "    </tr>\n",
       "    <tr>\n",
       "      <th>1213</th>\n",
       "      <td>NLRP13</td>\n",
       "      <td>ENSG00000173572</td>\n",
       "      <td>0.0062</td>\n",
       "      <td>0.170455</td>\n",
       "      <td>False</td>\n",
       "    </tr>\n",
       "    <tr>\n",
       "      <th>538</th>\n",
       "      <td>PTGFRN</td>\n",
       "      <td>ENSG00000134247</td>\n",
       "      <td>0.0066</td>\n",
       "      <td>0.117826</td>\n",
       "      <td>False</td>\n",
       "    </tr>\n",
       "    <tr>\n",
       "      <th>1268</th>\n",
       "      <td>NUTM2G</td>\n",
       "      <td>ENSG00000188152</td>\n",
       "      <td>0.0067</td>\n",
       "      <td>0.167649</td>\n",
       "      <td>False</td>\n",
       "    </tr>\n",
       "    <tr>\n",
       "      <th>2243</th>\n",
       "      <td>RANGAP1</td>\n",
       "      <td>ENSG00000100401</td>\n",
       "      <td>0.0068</td>\n",
       "      <td>0.146041</td>\n",
       "      <td>False</td>\n",
       "    </tr>\n",
       "    <tr>\n",
       "      <th>5038</th>\n",
       "      <td>TGFBR2</td>\n",
       "      <td>ENSG00000163513</td>\n",
       "      <td>0.0068</td>\n",
       "      <td>0.146041</td>\n",
       "      <td>False</td>\n",
       "    </tr>\n",
       "    <tr>\n",
       "      <th>837</th>\n",
       "      <td>SPEN</td>\n",
       "      <td>ENSG00000065526</td>\n",
       "      <td>0.0068</td>\n",
       "      <td>0.170455</td>\n",
       "      <td>False</td>\n",
       "    </tr>\n",
       "    <tr>\n",
       "      <th>367</th>\n",
       "      <td>PIGG</td>\n",
       "      <td>ENSG00000174227</td>\n",
       "      <td>0.0069</td>\n",
       "      <td>0.163511</td>\n",
       "      <td>False</td>\n",
       "    </tr>\n",
       "    <tr>\n",
       "      <th>531</th>\n",
       "      <td>GSPT1</td>\n",
       "      <td>ENSG00000103342</td>\n",
       "      <td>0.0070</td>\n",
       "      <td>0.170455</td>\n",
       "      <td>False</td>\n",
       "    </tr>\n",
       "    <tr>\n",
       "      <th>1672</th>\n",
       "      <td>GPR133</td>\n",
       "      <td>ENSG00000111452</td>\n",
       "      <td>0.0071</td>\n",
       "      <td>0.169052</td>\n",
       "      <td>False</td>\n",
       "    </tr>\n",
       "    <tr>\n",
       "      <th>6765</th>\n",
       "      <td>TGM1</td>\n",
       "      <td>ENSG00000092295</td>\n",
       "      <td>0.0074</td>\n",
       "      <td>0.117826</td>\n",
       "      <td>False</td>\n",
       "    </tr>\n",
       "    <tr>\n",
       "      <th>9323</th>\n",
       "      <td>C12orf55</td>\n",
       "      <td>ENSG00000188596</td>\n",
       "      <td>0.0077</td>\n",
       "      <td>0.163511</td>\n",
       "      <td>False</td>\n",
       "    </tr>\n",
       "    <tr>\n",
       "      <th>6970</th>\n",
       "      <td>PLCH2</td>\n",
       "      <td>ENSG00000149527</td>\n",
       "      <td>0.0080</td>\n",
       "      <td>0.146041</td>\n",
       "      <td>False</td>\n",
       "    </tr>\n",
       "    <tr>\n",
       "      <th>5494</th>\n",
       "      <td>TRPM3</td>\n",
       "      <td>ENSG00000083067</td>\n",
       "      <td>0.0083</td>\n",
       "      <td>0.159372</td>\n",
       "      <td>False</td>\n",
       "    </tr>\n",
       "    <tr>\n",
       "      <th>7921</th>\n",
       "      <td>PDE6A</td>\n",
       "      <td>ENSG00000132915</td>\n",
       "      <td>0.0085</td>\n",
       "      <td>0.107296</td>\n",
       "      <td>False</td>\n",
       "    </tr>\n",
       "    <tr>\n",
       "      <th>5052</th>\n",
       "      <td>PURA</td>\n",
       "      <td>ENSG00000185129</td>\n",
       "      <td>0.0087</td>\n",
       "      <td>0.201651</td>\n",
       "      <td>False</td>\n",
       "    </tr>\n",
       "    <tr>\n",
       "      <th>6657</th>\n",
       "      <td>LRRK1</td>\n",
       "      <td>ENSG00000154237</td>\n",
       "      <td>0.0089</td>\n",
       "      <td>0.167649</td>\n",
       "      <td>False</td>\n",
       "    </tr>\n",
       "    <tr>\n",
       "      <th>744</th>\n",
       "      <td>GNA11</td>\n",
       "      <td>ENSG00000088256</td>\n",
       "      <td>0.0089</td>\n",
       "      <td>0.146041</td>\n",
       "      <td>False</td>\n",
       "    </tr>\n",
       "    <tr>\n",
       "      <th>3807</th>\n",
       "      <td>RAB35</td>\n",
       "      <td>ENSG00000111737</td>\n",
       "      <td>0.0093</td>\n",
       "      <td>0.167649</td>\n",
       "      <td>False</td>\n",
       "    </tr>\n",
       "    <tr>\n",
       "      <th>4038</th>\n",
       "      <td>LYNX1</td>\n",
       "      <td>ENSG00000180155</td>\n",
       "      <td>0.0096</td>\n",
       "      <td>0.159372</td>\n",
       "      <td>False</td>\n",
       "    </tr>\n",
       "    <tr>\n",
       "      <th>8102</th>\n",
       "      <td>SIM1</td>\n",
       "      <td>ENSG00000112246</td>\n",
       "      <td>0.0100</td>\n",
       "      <td>0.095706</td>\n",
       "      <td>False</td>\n",
       "    </tr>\n",
       "  </tbody>\n",
       "</table>\n",
       "<p>71 rows × 5 columns</p>\n",
       "</div>"
      ],
      "text/plain": [
       "         SYMBOL           GENEID  PVALUE  MAX_SCORE DRIVER\n",
       "5775      SF3B1  ENSG00000115524  0.0000   0.340911  False\n",
       "266       NSRP1  ENSG00000126653  0.0000   0.272314  False\n",
       "9116     PIK3CA  ENSG00000121879  0.0000   2.214516  False\n",
       "3397       AKT1  ENSG00000142208  0.0000   0.511366  False\n",
       "1332       TP53  ENSG00000141510  0.0003   0.538254  False\n",
       "7734      KCNV1  ENSG00000164794  0.0003   0.187022  False\n",
       "6292      USP35  ENSG00000118369  0.0006   0.169052  False\n",
       "4943      NPHP4  ENSG00000131697  0.0006   0.169052  False\n",
       "6418     MESDC1  ENSG00000140406  0.0007   0.170455  False\n",
       "3823    ARHGEF4  ENSG00000136002  0.0008   0.170455  False\n",
       "5613     OR10K1  ENSG00000173285  0.0008   0.170455  False\n",
       "73        PTPRQ  ENSG00000139304  0.0008   0.170455  False\n",
       "2894     ZNF644  ENSG00000122482  0.0010   0.170455  False\n",
       "4470       CHD1  ENSG00000153922  0.0012   0.170455  False\n",
       "7442      OR5M3  ENSG00000174937  0.0012   0.170455  False\n",
       "8775     MAP3K4  ENSG00000085511  0.0012   0.170455  False\n",
       "6716     ABCB10  ENSG00000135776  0.0013   0.170455  False\n",
       "5180    TBC1D31  ENSG00000156787  0.0016   0.235745  False\n",
       "2483    SMARCA4  ENSG00000127616  0.0019   0.169052  False\n",
       "2515  HIST1H2BC  ENSG00000180596  0.0020   0.170455  False\n",
       "4179       GNAS  ENSG00000087460  0.0020   0.169052  False\n",
       "7187     SHANK1  ENSG00000161681  0.0020   0.170455  False\n",
       "497       ACOT2  ENSG00000119673  0.0023   0.170455  False\n",
       "3965       LIFR  ENSG00000113594  0.0024   0.163511  False\n",
       "3208     TMEM71  ENSG00000165071  0.0025   0.169052  False\n",
       "184     STEAP1B  ENSG00000105889  0.0026   0.170455  False\n",
       "5797      NOC4L  ENSG00000184967  0.0026   0.167649  False\n",
       "5        DOCK11  ENSG00000147251  0.0026   0.170455  False\n",
       "165      SPHKAP  ENSG00000153820  0.0029   0.170455  False\n",
       "7777     GPR125  ENSG00000152990  0.0030   0.167649  False\n",
       "...         ...              ...     ...        ...    ...\n",
       "2055      NTRK3  ENSG00000140538  0.0047   0.167649  False\n",
       "609        AATF  ENSG00000108270  0.0048   0.163511  False\n",
       "8645       ZHX2  ENSG00000178764  0.0050   0.170455  False\n",
       "9036     FAM47A  ENSG00000185448  0.0051   0.167649  False\n",
       "3387      DNAH9  ENSG00000007174  0.0053   0.170455  False\n",
       "8269    MSANTD3  ENSG00000066697  0.0054   0.167649  False\n",
       "4904      OPHN1  ENSG00000079482  0.0055   0.167649  False\n",
       "8044        PSD  ENSG00000059915  0.0057   0.163511  False\n",
       "5435       HEPH  ENSG00000089472  0.0062   0.095706  False\n",
       "6694       TUBB  ENSG00000196230  0.0062   0.169052  False\n",
       "1213     NLRP13  ENSG00000173572  0.0062   0.170455  False\n",
       "538      PTGFRN  ENSG00000134247  0.0066   0.117826  False\n",
       "1268     NUTM2G  ENSG00000188152  0.0067   0.167649  False\n",
       "2243    RANGAP1  ENSG00000100401  0.0068   0.146041  False\n",
       "5038     TGFBR2  ENSG00000163513  0.0068   0.146041  False\n",
       "837        SPEN  ENSG00000065526  0.0068   0.170455  False\n",
       "367        PIGG  ENSG00000174227  0.0069   0.163511  False\n",
       "531       GSPT1  ENSG00000103342  0.0070   0.170455  False\n",
       "1672     GPR133  ENSG00000111452  0.0071   0.169052  False\n",
       "6765       TGM1  ENSG00000092295  0.0074   0.117826  False\n",
       "9323   C12orf55  ENSG00000188596  0.0077   0.163511  False\n",
       "6970      PLCH2  ENSG00000149527  0.0080   0.146041  False\n",
       "5494      TRPM3  ENSG00000083067  0.0083   0.159372  False\n",
       "7921      PDE6A  ENSG00000132915  0.0085   0.107296  False\n",
       "5052       PURA  ENSG00000185129  0.0087   0.201651  False\n",
       "6657      LRRK1  ENSG00000154237  0.0089   0.167649  False\n",
       "744       GNA11  ENSG00000088256  0.0089   0.146041  False\n",
       "3807      RAB35  ENSG00000111737  0.0093   0.167649  False\n",
       "4038      LYNX1  ENSG00000180155  0.0096   0.159372  False\n",
       "8102       SIM1  ENSG00000112246  0.0100   0.095706  False\n",
       "\n",
       "[71 rows x 5 columns]"
      ]
     },
     "execution_count": 40,
     "metadata": {},
     "output_type": "execute_result"
    }
   ],
   "source": [
    "df.sort_values('PVALUE', inplace=True)\n",
    "df[df['PVALUE'] <= 0.01]"
   ]
  },
  {
   "cell_type": "markdown",
   "metadata": {},
   "source": [
    "## Done!"
   ]
  }
 ],
 "metadata": {
  "kernelspec": {
   "display_name": "Python 3",
   "language": "python",
   "name": "python3"
  },
  "language_info": {
   "codemirror_mode": {
    "name": "ipython",
    "version": 3.0
   },
   "file_extension": ".py",
   "mimetype": "text/x-python",
   "name": "python",
   "nbconvert_exporter": "python",
   "pygments_lexer": "ipython3",
   "version": "3.5.2+"
  }
 },
 "nbformat": 4,
 "nbformat_minor": 0
}