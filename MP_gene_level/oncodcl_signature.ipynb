{
 "cells": [
  {
   "cell_type": "code",
   "execution_count": 1,
   "metadata": {
    "collapsed": true
   },
   "outputs": [],
   "source": [
    "import sys\n",
    "from collections import defaultdict\n",
    "\n",
    "from concurrent.futures import ProcessPoolExecutor as Pool\n",
    "from tqdm import tqdm\n",
    "import pandas as pd\n",
    "import numpy as np\n",
    "import pickle\n",
    "\n",
    "import oncodcl_funct as odf\n",
    "import oncodcl_funct2 as odf2\n",
    "import signature as sign"
   ]
  },
  {
   "cell_type": "code",
   "execution_count": 2,
   "metadata": {},
   "outputs": [],
   "source": [
    "%load_ext line_profiler"
   ]
  },
  {
   "cell_type": "code",
   "execution_count": 3,
   "metadata": {},
   "outputs": [],
   "source": [
    "%load_ext autoreload\n",
    "%autoreload 2"
   ]
  },
  {
   "cell_type": "code",
   "execution_count": 21,
   "metadata": {
    "collapsed": true
   },
   "outputs": [],
   "source": [
    "# Global variables\n",
    "OUTPUT_FILE = '/home/carnedo/projects/oncodriveclustl/outputs/SKCM.txt'\n",
    "\n",
    "def write_results2(results, output_file):\n",
    "    \"\"\"Save results to the output file\n",
    "    :param results: dict, dictionary of results, keys are gene's names\n",
    "    :param output_file: path, path of the output file\n",
    "    :return: None\n",
    "    \"\"\"\n",
    "    header = ['SYMBOL', 'SCORE_OBS', 'SCORE_SIM', 'CGC']\n",
    "    with open(output_file, 'w') as fd:\n",
    "        fd.write('{}\\n'.format('\\t'.join(header)))\n",
    "        for gene_name, values in results.items():\n",
    "            score_obs, score_sim, cgc = values\n",
    "            fd.write('{}\\t{}\\t{}\\t{}\\n'.format(\n",
    "                gene_name, score_obs, score_sim, cgc))\n",
    "            # fd.write(f'{gene_name}\\t{length}\\t{num_clusters}\\t{num_mutations}\\t{score}\\t{cgc}\\n')\n",
    "\n",
    "    df = pd.read_csv(output_file, sep='\\t', header=0)\n",
    "    df.sort_values(by=['SCORE_OBS', 'CGC'], ascending=[False, False], inplace=True)\n",
    "    df.to_csv(path_or_buf=output_file, sep='\\t', na_rep='')"
   ]
  },
  {
   "cell_type": "code",
   "execution_count": 4,
   "metadata": {},
   "outputs": [
    {
     "name": "stderr",
     "output_type": "stream",
     "text": [
      "Regions parsed\n"
     ]
    }
   ],
   "source": [
    "# Parse regions\n",
    "input_regions = '/home/carnedo/projects/oncodriveclustl/inputs/regions/02_cds.regions.gz'\n",
    "trees, regions_d, chromosomes_d = odf.regions(input_regions)\n",
    "sys.stderr.write('Regions parsed\\n')"
   ]
  },
  {
   "cell_type": "code",
   "execution_count": 5,
   "metadata": {
    "scrolled": true
   },
   "outputs": [
    {
     "name": "stderr",
     "output_type": "stream",
     "text": [
      "Mutations read\n"
     ]
    }
   ],
   "source": [
    "# Read mutations, intersect with regions\n",
    "input_mutations = '/home/carnedo/projects/oncodriveclustl/inputs/mutations/pancanatlas/SKCM.txt'\n",
    "mutations_d = odf.read_mutations(input_mutations, trees)\n",
    "sys.stderr.write('Mutations read\\n')"
   ]
  },
  {
   "cell_type": "code",
   "execution_count": 6,
   "metadata": {
    "scrolled": true
   },
   "outputs": [
    {
     "name": "stderr",
     "output_type": "stream",
     "text": [
      "231785it [00:02, 95876.63it/s] \n",
      "Signatures calculated\n"
     ]
    }
   ],
   "source": [
    "# Calculate signatures for cancer type dataset\n",
    "obj = sign.Signature(start_at_0=True)\n",
    "obj.calculate(input_mutations)\n",
    "signatures = obj.signatures['probabilities']\n",
    "sys.stderr.write('Signatures calculated\\n')"
   ]
  },
  {
   "cell_type": "code",
   "execution_count": 28,
   "metadata": {
    "collapsed": true
   },
   "outputs": [],
   "source": [
    "# Analyze only genes with >= 2 mutations\n",
    "genes = [(g, regions_d[g], chromosomes_d[g], mutations_d[g]) for g in regions_d.keys() if len(mutations_d[g]) >= 2]\n",
    "CGC_genes = set([line.split('\\t')[0] for line in open('/home/carnedo/projects/oncodriveclustl/inputs/CGC/CGCMay17_cancer_types_TCGA.tsv', 'r')])"
   ]
  },
  {
   "cell_type": "code",
   "execution_count": 55,
   "metadata": {
    "scrolled": false
   },
   "outputs": [
    {
     "name": "stderr",
     "output_type": "stream",
     "text": [
      " 72%|███████▏  | 11220/15561 [23:34<18:04,  4.00it/s]  "
     ]
    },
    {
     "name": "stdout",
     "output_type": "stream",
     "text": [
      "Ranges problem: operands could not be broadcast together with shapes (50,) (51,) (50,) \n",
      "Ranges problem: operands could not be broadcast together with shapes (50,) (51,) (50,) \n",
      "Ranges problem: operands could not be broadcast together with shapes (50,) (51,) (50,) \n",
      "Ranges problem: operands could not be broadcast together with shapes (50,) (51,) (50,) \n",
      "Ranges problem: operands could not be broadcast together with shapes (50,) (51,) (50,) \n",
      "Ranges problem: operands could not be broadcast together with shapes (50,) (51,) (50,) \n",
      "Ranges problem: operands could not be broadcast together with shapes (50,) (51,) (50,) \n",
      "Ranges problem: operands could not be broadcast together with shapes (50,) (51,) (50,) \n",
      "Ranges problem: operands could not be broadcast together with shapes (50,) (51,) (50,) \n",
      "Ranges problem: operands could not be broadcast together with shapes (50,) (51,) (50,) \n",
      "Ranges problem: operands could not be broadcast together with shapes (50,) (51,) (50,) \n",
      "Ranges problem: operands could not be broadcast together with shapes (50,) (51,) (50,) \n"
     ]
    },
    {
     "name": "stderr",
     "output_type": "stream",
     "text": [
      "100%|██████████| 15561/15561 [33:43<00:00,  7.69it/s]  \n",
      "Results calculated\n"
     ]
    }
   ],
   "source": [
    "results_d = defaultdict()\n",
    "\n",
    "\n",
    "with Pool(max_workers=4) as executor, tqdm(total=len(genes)) as pbar:\n",
    "    for gene, scores in executor.map(odf2.run_region, genes):\n",
    "        pbar.update(1)\n",
    "        CGC = gene in CGC_genes\n",
    "        results_d[gene] = (scores['obs'], scores['sim'], CGC)\n",
    "            \n",
    "sys.stderr.write('Results calculated\\n')"
   ]
  },
  {
   "cell_type": "markdown",
   "metadata": {},
   "source": [
    "### Multiprocess at simulation level TESTING"
   ]
  },
  {
   "cell_type": "markdown",
   "metadata": {},
   "source": [
    "#### MP gene level, 10 genes, 100 simulations"
   ]
  },
  {
   "cell_type": "code",
   "execution_count": 91,
   "metadata": {
    "scrolled": true
   },
   "outputs": [
    {
     "name": "stderr",
     "output_type": "stream",
     "text": [
      "100%|██████████| 11/11 [00:01<00:00,  6.68it/s]"
     ]
    },
    {
     "name": "stdout",
     "output_type": "stream",
     "text": [
      "CPU times: user 16 ms, sys: 60 ms, total: 76 ms\n",
      "Wall time: 1.66 s\n"
     ]
    },
    {
     "name": "stderr",
     "output_type": "stream",
     "text": [
      "\n"
     ]
    }
   ],
   "source": [
    "%%time\n",
    "results_short = defaultdict()\n",
    "\n",
    "with Pool(max_workers=4) as executor, tqdm(total=len(genes[:11])) as pbar:\n",
    "    for gene, scores in executor.map(odf2.run_region, genes[:11]):\n",
    "        pbar.update(1)\n",
    "        CGC = gene in CGC_genes\n",
    "        results_short[gene] = (scores['obs'], scores['sim'], CGC)\n"
   ]
  },
  {
   "cell_type": "markdown",
   "metadata": {},
   "source": [
    "#### MP gene level, 10 genes, 1000 simulations"
   ]
  },
  {
   "cell_type": "code",
   "execution_count": 90,
   "metadata": {},
   "outputs": [
    {
     "name": "stderr",
     "output_type": "stream",
     "text": [
      "100%|██████████| 11/11 [00:30<00:00,  2.81s/it]"
     ]
    },
    {
     "name": "stdout",
     "output_type": "stream",
     "text": [
      "CPU times: user 30 s, sys: 8 ms, total: 30 s\n",
      "Wall time: 30 s\n"
     ]
    },
    {
     "name": "stderr",
     "output_type": "stream",
     "text": [
      "\n"
     ]
    }
   ],
   "source": [
    "%%time\n",
    "results_short = defaultdict()\n",
    "\n",
    "with Pool(max_workers=4) as executor, tqdm(total=len(genes[:11])) as pbar:\n",
    "    for gene, scores in executor.map(odf2.run_region, genes[:11]):\n",
    "        pbar.update(1)\n",
    "        CGC = gene in CGC_genes\n",
    "        results_short[gene] = (scores['obs'], scores['sim'], CGC)\n"
   ]
  },
  {
   "cell_type": "markdown",
   "metadata": {},
   "source": [
    "#### MP gene level, 10 genes, 10000 simulations"
   ]
  },
  {
   "cell_type": "code",
   "execution_count": null,
   "metadata": {},
   "outputs": [
    {
     "name": "stderr",
     "output_type": "stream",
     "text": [
      "  9%|▉         | 1/11 [00:21<03:30, 21.08s/it]"
     ]
    }
   ],
   "source": [
    "%%time\n",
    "results_short = defaultdict()\n",
    "\n",
    "with Pool(max_workers=4) as executor, tqdm(total=len(genes[:11])) as pbar:\n",
    "    for gene, scores in executor.map(odf2.run_region, genes[:11]):\n",
    "        pbar.update(1)\n",
    "        CGC = gene in CGC_genes\n",
    "        results_short[gene] = (scores['obs'], scores['sim'], CGC)\n"
   ]
  },
  {
   "cell_type": "markdown",
   "metadata": {},
   "source": [
    "### Profiling"
   ]
  },
  {
   "cell_type": "code",
   "execution_count": 80,
   "metadata": {
    "scrolled": true
   },
   "outputs": [],
   "source": [
    "%lprun -f odf2.run_region odf2.run_region(genes[10])"
   ]
  },
  {
   "cell_type": "markdown",
   "metadata": {},
   "source": [
    "### N in trinucleotide"
   ]
  },
  {
   "cell_type": "code",
   "execution_count": 114,
   "metadata": {},
   "outputs": [
    {
     "name": "stdout",
     "output_type": "stream",
     "text": [
      "---------------\n",
      "ACG\n",
      "No N\n",
      "---------------\n",
      "TTG\n",
      "No N\n",
      "---------------\n",
      "AAA\n",
      "No N\n",
      "---------------\n",
      "GCG\n",
      "No N\n",
      "---------------\n",
      "NAG\n",
      "{'AAG', 'TAG', 'CAG', 'GAG'}\n",
      "AAG TAG\n",
      "·····\n",
      "AAG CAG\n",
      "·····\n",
      "AAG GAG\n",
      "·····\n",
      "TAG AAG\n",
      "·····\n",
      "TAG CAG\n",
      "·····\n",
      "TAG GAG\n",
      "·····\n",
      "CAG AAG\n",
      "·····\n",
      "CAG TAG\n",
      "·····\n",
      "CAG GAG\n",
      "·····\n",
      "GAG AAG\n",
      "·····\n",
      "GAG TAG\n",
      "·····\n",
      "GAG CAG\n",
      "·····\n",
      "---------------\n",
      "CNA\n",
      "{'CCA', 'CGA', 'CAA', 'CTA'}\n",
      "CCA CGA\n",
      "·····\n",
      "CCA CAA\n",
      "·····\n",
      "CCA CTA\n",
      "·····\n",
      "CGA CCA\n",
      "·····\n",
      "CGA CAA\n",
      "·····\n",
      "CGA CTA\n",
      "·····\n",
      "CAA CCA\n",
      "·····\n",
      "CAA CGA\n",
      "·····\n",
      "CAA CTA\n",
      "·····\n",
      "CTA CCA\n",
      "·····\n",
      "CTA CGA\n",
      "·····\n",
      "CTA CAA\n",
      "·····\n",
      "---------------\n",
      "ANN\n",
      "Two N in trinucleotide found\n",
      "---------------\n",
      "NNG\n",
      "Two N in trinucleotide found\n",
      "---------------\n",
      "NNN\n",
      "Two N in trinucleotide found\n"
     ]
    }
   ],
   "source": [
    "import re\n",
    "\n",
    "p1 = re.compile('[N]{1}')\n",
    "p2 = re.compile('[N]{2}')\n",
    "\n",
    "nucleot = {'A', 'C', 'G', 'T'}\n",
    "\n",
    "tri = ['ACG', 'TTG', 'AAA', 'GCG', 'NAG', 'CNA', 'ANN', 'NNG', 'NNN']\n",
    "\n",
    "for element in tri: \n",
    "    print('---------------')\n",
    "    print(element)\n",
    "    two_N = p2.search(element)\n",
    "    one_N = p1.search(element)\n",
    "    \n",
    "    if two_N is None:\n",
    "        # No N\n",
    "        if one_N is None:\n",
    "            print('No N')\n",
    "        # One N\n",
    "        else:\n",
    "            new_tris = set()\n",
    "            prob = 0\n",
    "            for nuc in nucleot:\n",
    "                new_tris.add(re.sub('N', nuc, element))\n",
    "            print(new_tris)\n",
    "            \n",
    "            for element in new_tris: \n",
    "                for change in new_tris.difference(set([element])): \n",
    "                    print(element, change)\n",
    "                    print('·····')\n",
    "    # Two or three N\n",
    "    else:\n",
    "        print('Two N in trinucleotide found')\n"
   ]
  },
  {
   "cell_type": "markdown",
   "metadata": {},
   "source": [
    "### Error clusters min_r solved"
   ]
  },
  {
   "cell_type": "code",
   "execution_count": null,
   "metadata": {
    "collapsed": true
   },
   "outputs": [],
   "source": [
    "g = 'WDPCP'\n",
    "symbol = g\n",
    "chromosome = chromosomes_d[g]\n",
    "regions = regions_d[g]\n",
    "mutations = mutations_d[g]\n",
    "n_simulations = 3"
   ]
  },
  {
   "cell_type": "code",
   "execution_count": null,
   "metadata": {
    "collapsed": true,
    "scrolled": true
   },
   "outputs": [],
   "source": [
    "region_arrays = odf.get_arrays(symbol, chromosome, regions, signatures)\n",
    "\n",
    "# Analysis of the observed mutations\n",
    "observed_results = odf3.analysis(region_arrays, mutations, window_s=50, window_c=50)\n",
    "\n",
    "# Analysis of the simulated mutations\n",
    "for i in range(15000): \n",
    "    simulations = []\n",
    "    for _ in range(n_simulations):\n",
    "        print(i)\n",
    "        simulated_mutations = odf3.simulate(array_positions=region_arrays['genomic'], n_mutations=len(mutations), pos_prob=region_arrays['probs'])\n",
    "        print(simulated_mutations)\n",
    "        simulated_results = odf3.analysis(region_arrays, simulated_mutations, window_s=50, window_c=50)\n",
    "        print('analysis done')\n",
    "        #simulations.append(simulated_results)\n",
    "\n",
    "    print(symbol)"
   ]
  },
  {
   "cell_type": "code",
   "execution_count": null,
   "metadata": {
    "collapsed": true
   },
   "outputs": [],
   "source": [
    "simulated_mutations"
   ]
  },
  {
   "cell_type": "code",
   "execution_count": null,
   "metadata": {
    "collapsed": true
   },
   "outputs": [],
   "source": [
    "testneg = [ 63815406,  63712106,  63631205,  63401851,  63712054,  63664599,\n",
    "  63815406,  63631539,  63631422,  63605591]"
   ]
  },
  {
   "cell_type": "code",
   "execution_count": null,
   "metadata": {
    "collapsed": true
   },
   "outputs": [],
   "source": [
    "testpos = [ 63631649,  63605587,  63664658, 63815350, 63486545, 63540419,\n",
    "  63401818, 63631546, 63401895, 63401927,]"
   ]
  },
  {
   "cell_type": "code",
   "execution_count": null,
   "metadata": {
    "collapsed": true,
    "scrolled": false
   },
   "outputs": [],
   "source": [
    "odf3.analysis(region_arrays, testneg, window_s=50, window_c=50)"
   ]
  },
  {
   "cell_type": "code",
   "execution_count": null,
   "metadata": {
    "collapsed": true,
    "scrolled": true
   },
   "outputs": [],
   "source": [
    "results_d = defaultdict()\n",
    "for gene, results in map(odf3.run_region, genes):\n",
    "    results_d[gene] = results"
   ]
  },
  {
   "cell_type": "code",
   "execution_count": null,
   "metadata": {
    "collapsed": true
   },
   "outputs": [],
   "source": []
  },
  {
   "cell_type": "code",
   "execution_count": null,
   "metadata": {
    "collapsed": true
   },
   "outputs": [],
   "source": []
  }
 ],
 "metadata": {
  "kernelspec": {
   "display_name": "Python [conda env:oncodriveclustl]",
   "language": "python",
   "name": "conda-env-oncodriveclustl-py"
  },
  "language_info": {
   "codemirror_mode": {
    "name": "ipython",
    "version": 3
   },
   "file_extension": ".py",
   "mimetype": "text/x-python",
   "name": "python",
   "nbconvert_exporter": "python",
   "pygments_lexer": "ipython3",
   "version": "3.5.3"
  }
 },
 "nbformat": 4,
 "nbformat_minor": 2
}
