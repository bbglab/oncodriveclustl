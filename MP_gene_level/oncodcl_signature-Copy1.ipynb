{
 "cells": [
  {
   "cell_type": "code",
   "execution_count": 1,
   "metadata": {
    "collapsed": true
   },
   "outputs": [],
   "source": [
    "import sys\n",
    "from collections import defaultdict\n",
    "\n",
    "from concurrent.futures import ProcessPoolExecutor as Pool\n",
    "from tqdm import tqdm\n",
    "import pandas as pd\n",
    "import numpy as np\n",
    "import pickle\n",
    "\n",
    "import oncodcl_funct as odf\n",
    "import oncodcl_funct2 as odf2\n",
    "import signature as sign"
   ]
  },
  {
   "cell_type": "code",
   "execution_count": 2,
   "metadata": {},
   "outputs": [],
   "source": [
    "%load_ext line_profiler"
   ]
  },
  {
   "cell_type": "code",
   "execution_count": 3,
   "metadata": {},
   "outputs": [],
   "source": [
    "%load_ext autoreload\n",
    "%autoreload 2"
   ]
  },
  {
   "cell_type": "code",
   "execution_count": 21,
   "metadata": {
    "collapsed": true
   },
   "outputs": [],
   "source": [
    "# Global variables\n",
    "OUTPUT_FILE = '/home/carnedo/projects/oncodriveclustl/outputs/SKCM.txt'\n",
    "\n",
    "def write_results2(results, output_file):\n",
    "    \"\"\"Save results to the output file\n",
    "    :param results: dict, dictionary of results, keys are gene's names\n",
    "    :param output_file: path, path of the output file\n",
    "    :return: None\n",
    "    \"\"\"\n",
    "    header = ['SYMBOL', 'SCORE_OBS', 'SCORE_SIM', 'CGC']\n",
    "    with open(output_file, 'w') as fd:\n",
    "        fd.write('{}\\n'.format('\\t'.join(header)))\n",
    "        for gene_name, values in results.items():\n",
    "            score_obs, score_sim, cgc = values\n",
    "            fd.write('{}\\t{}\\t{}\\t{}\\n'.format(\n",
    "                gene_name, score_obs, score_sim, cgc))\n",
    "            # fd.write(f'{gene_name}\\t{length}\\t{num_clusters}\\t{num_mutations}\\t{score}\\t{cgc}\\n')\n",
    "\n",
    "    df = pd.read_csv(output_file, sep='\\t', header=0)\n",
    "    df.sort_values(by=['SCORE_OBS', 'CGC'], ascending=[False, False], inplace=True)\n",
    "    df.to_csv(path_or_buf=output_file, sep='\\t', na_rep='')"
   ]
  },
  {
   "cell_type": "code",
   "execution_count": 4,
   "metadata": {},
   "outputs": [
    {
     "name": "stderr",
     "output_type": "stream",
     "text": [
      "Regions parsed\n"
     ]
    }
   ],
   "source": [
    "# Parse regions\n",
    "input_regions = '/home/carnedo/projects/oncodriveclustl/inputs/regions/02_cds.regions.gz'\n",
    "trees, regions_d, chromosomes_d = odf.regions(input_regions)\n",
    "sys.stderr.write('Regions parsed\\n')"
   ]
  },
  {
   "cell_type": "code",
   "execution_count": 5,
   "metadata": {
    "scrolled": true
   },
   "outputs": [
    {
     "name": "stderr",
     "output_type": "stream",
     "text": [
      "Mutations read\n"
     ]
    }
   ],
   "source": [
    "# Read mutations, intersect with regions\n",
    "input_mutations = '/home/carnedo/projects/oncodriveclustl/inputs/mutations/pancanatlas/SKCM.txt'\n",
    "mutations_d = odf.read_mutations(input_mutations, trees)\n",
    "sys.stderr.write('Mutations read\\n')"
   ]
  },
  {
   "cell_type": "code",
   "execution_count": 6,
   "metadata": {
    "scrolled": true
   },
   "outputs": [
    {
     "name": "stderr",
     "output_type": "stream",
     "text": [
      "231785it [00:02, 95876.63it/s] \n",
      "Signatures calculated\n"
     ]
    }
   ],
   "source": [
    "# Calculate signatures for cancer type dataset\n",
    "obj = sign.Signature(start_at_0=True)\n",
    "obj.calculate(input_mutations)\n",
    "signatures = obj.signatures['probabilities']\n",
    "sys.stderr.write('Signatures calculated\\n')"
   ]
  },
  {
   "cell_type": "code",
   "execution_count": 28,
   "metadata": {
    "collapsed": true
   },
   "outputs": [],
   "source": [
    "# Analyze only genes with >= 2 mutations\n",
    "genes = [(g, regions_d[g], chromosomes_d[g], mutations_d[g]) for g in regions_d.keys() if len(mutations_d[g]) >= 2]\n",
    "CGC_genes = set([line.split('\\t')[0] for line in open('/home/carnedo/projects/oncodriveclustl/inputs/CGC/CGCMay17_cancer_types_TCGA.tsv', 'r')])"
   ]
  },
  {
   "cell_type": "code",
   "execution_count": 26,
   "metadata": {
    "scrolled": false
   },
   "outputs": [
    {
     "name": "stderr",
     "output_type": "stream",
     "text": [
      "  2%|▏         | 278/15561 [00:02<02:44, 92.98it/s]  \n"
     ]
    },
    {
     "ename": "OverflowError",
     "evalue": "math range error",
     "output_type": "error",
     "traceback": [
      "\u001b[0;31m---------------------------------------------------------------------------\u001b[0m",
      "\u001b[0;31m_RemoteTraceback\u001b[0m                          Traceback (most recent call last)",
      "\u001b[0;31m_RemoteTraceback\u001b[0m: \n\"\"\"\nTraceback (most recent call last):\n  File \"/home/carnedo/anaconda3/envs/oncodriveclustl/lib/python3.5/concurrent/futures/process.py\", line 175, in _process_worker\n    r = call_item.fn(*call_item.args, **call_item.kwargs)\n  File \"/home/carnedo/anaconda3/envs/oncodriveclustl/lib/python3.5/concurrent/futures/process.py\", line 153, in _process_chunk\n    return [fn(*args) for args in chunk]\n  File \"/home/carnedo/anaconda3/envs/oncodriveclustl/lib/python3.5/concurrent/futures/process.py\", line 153, in <listcomp>\n    return [fn(*args) for args in chunk]\n  File \"/home/carnedo/projects/oncodriveclustl/oncodcl_funct2.py\", line 83, in run_region\n    observed_results = analysis(region_arrays, mutations, window_s=50, window_c=50)\n  File \"/home/carnedo/projects/oncodriveclustl/oncodcl_funct2.py\", line 53, in analysis\n    clusters = odf.clustering(regions=region_smooth, mutations=mutations, window=window_c)\n  File \"/home/carnedo/projects/oncodriveclustl/oncodcl_funct.py\", line 399, in clustering\n    s_clusters = score_clusters(clusters=f_clusters, regions=regions)\n  File \"/home/carnedo/projects/oncodriveclustl/oncodcl_funct.py\", line 376, in score_clusters\n    score.append(fraction_mut / m.pow(root, distance))\nOverflowError: math range error\n\"\"\"",
      "\nThe above exception was the direct cause of the following exception:\n",
      "\u001b[0;31mOverflowError\u001b[0m                             Traceback (most recent call last)",
      "\u001b[0;32m<ipython-input-26-9f441f5f7801>\u001b[0m in \u001b[0;36m<module>\u001b[0;34m()\u001b[0m\n\u001b[1;32m      3\u001b[0m \u001b[0;34m\u001b[0m\u001b[0m\n\u001b[1;32m      4\u001b[0m \u001b[0;32mwith\u001b[0m \u001b[0mPool\u001b[0m\u001b[0;34m(\u001b[0m\u001b[0mmax_workers\u001b[0m\u001b[0;34m=\u001b[0m\u001b[0;36m4\u001b[0m\u001b[0;34m)\u001b[0m \u001b[0;32mas\u001b[0m \u001b[0mexecutor\u001b[0m\u001b[0;34m,\u001b[0m \u001b[0mtqdm\u001b[0m\u001b[0;34m(\u001b[0m\u001b[0mtotal\u001b[0m\u001b[0;34m=\u001b[0m\u001b[0mlen\u001b[0m\u001b[0;34m(\u001b[0m\u001b[0mgenes\u001b[0m\u001b[0;34m)\u001b[0m\u001b[0;34m)\u001b[0m \u001b[0;32mas\u001b[0m \u001b[0mpbar\u001b[0m\u001b[0;34m:\u001b[0m\u001b[0;34m\u001b[0m\u001b[0m\n\u001b[0;32m----> 5\u001b[0;31m     \u001b[0;32mfor\u001b[0m \u001b[0mgene\u001b[0m\u001b[0;34m,\u001b[0m \u001b[0mscores\u001b[0m \u001b[0;32min\u001b[0m \u001b[0mexecutor\u001b[0m\u001b[0;34m.\u001b[0m\u001b[0mmap\u001b[0m\u001b[0;34m(\u001b[0m\u001b[0modf2\u001b[0m\u001b[0;34m.\u001b[0m\u001b[0mrun_region\u001b[0m\u001b[0;34m,\u001b[0m \u001b[0mgenes\u001b[0m\u001b[0;34m)\u001b[0m\u001b[0;34m:\u001b[0m\u001b[0;34m\u001b[0m\u001b[0m\n\u001b[0m\u001b[1;32m      6\u001b[0m         \u001b[0mpbar\u001b[0m\u001b[0;34m.\u001b[0m\u001b[0mupdate\u001b[0m\u001b[0;34m(\u001b[0m\u001b[0;36m1\u001b[0m\u001b[0;34m)\u001b[0m\u001b[0;34m\u001b[0m\u001b[0m\n\u001b[1;32m      7\u001b[0m         \u001b[0mCGC\u001b[0m \u001b[0;34m=\u001b[0m \u001b[0mgene\u001b[0m \u001b[0;32min\u001b[0m \u001b[0mCGC_genes\u001b[0m\u001b[0;34m\u001b[0m\u001b[0m\n",
      "\u001b[0;32m~/anaconda3/envs/oncodriveclustl/lib/python3.5/concurrent/futures/_base.py\u001b[0m in \u001b[0;36mresult_iterator\u001b[0;34m()\u001b[0m\n\u001b[1;32m    554\u001b[0m                 \u001b[0;32mfor\u001b[0m \u001b[0mfuture\u001b[0m \u001b[0;32min\u001b[0m \u001b[0mfs\u001b[0m\u001b[0;34m:\u001b[0m\u001b[0;34m\u001b[0m\u001b[0m\n\u001b[1;32m    555\u001b[0m                     \u001b[0;32mif\u001b[0m \u001b[0mtimeout\u001b[0m \u001b[0;32mis\u001b[0m \u001b[0;32mNone\u001b[0m\u001b[0;34m:\u001b[0m\u001b[0;34m\u001b[0m\u001b[0m\n\u001b[0;32m--> 556\u001b[0;31m                         \u001b[0;32myield\u001b[0m \u001b[0mfuture\u001b[0m\u001b[0;34m.\u001b[0m\u001b[0mresult\u001b[0m\u001b[0;34m(\u001b[0m\u001b[0;34m)\u001b[0m\u001b[0;34m\u001b[0m\u001b[0m\n\u001b[0m\u001b[1;32m    557\u001b[0m                     \u001b[0;32melse\u001b[0m\u001b[0;34m:\u001b[0m\u001b[0;34m\u001b[0m\u001b[0m\n\u001b[1;32m    558\u001b[0m                         \u001b[0;32myield\u001b[0m \u001b[0mfuture\u001b[0m\u001b[0;34m.\u001b[0m\u001b[0mresult\u001b[0m\u001b[0;34m(\u001b[0m\u001b[0mend_time\u001b[0m \u001b[0;34m-\u001b[0m \u001b[0mtime\u001b[0m\u001b[0;34m.\u001b[0m\u001b[0mtime\u001b[0m\u001b[0;34m(\u001b[0m\u001b[0;34m)\u001b[0m\u001b[0;34m)\u001b[0m\u001b[0;34m\u001b[0m\u001b[0m\n",
      "\u001b[0;32m~/anaconda3/envs/oncodriveclustl/lib/python3.5/concurrent/futures/_base.py\u001b[0m in \u001b[0;36mresult\u001b[0;34m(self, timeout)\u001b[0m\n\u001b[1;32m    403\u001b[0m                 \u001b[0;32mraise\u001b[0m \u001b[0mCancelledError\u001b[0m\u001b[0;34m(\u001b[0m\u001b[0;34m)\u001b[0m\u001b[0;34m\u001b[0m\u001b[0m\n\u001b[1;32m    404\u001b[0m             \u001b[0;32melif\u001b[0m \u001b[0mself\u001b[0m\u001b[0;34m.\u001b[0m\u001b[0m_state\u001b[0m \u001b[0;34m==\u001b[0m \u001b[0mFINISHED\u001b[0m\u001b[0;34m:\u001b[0m\u001b[0;34m\u001b[0m\u001b[0m\n\u001b[0;32m--> 405\u001b[0;31m                 \u001b[0;32mreturn\u001b[0m \u001b[0mself\u001b[0m\u001b[0;34m.\u001b[0m\u001b[0m__get_result\u001b[0m\u001b[0;34m(\u001b[0m\u001b[0;34m)\u001b[0m\u001b[0;34m\u001b[0m\u001b[0m\n\u001b[0m\u001b[1;32m    406\u001b[0m             \u001b[0;32melse\u001b[0m\u001b[0;34m:\u001b[0m\u001b[0;34m\u001b[0m\u001b[0m\n\u001b[1;32m    407\u001b[0m                 \u001b[0;32mraise\u001b[0m \u001b[0mTimeoutError\u001b[0m\u001b[0;34m(\u001b[0m\u001b[0;34m)\u001b[0m\u001b[0;34m\u001b[0m\u001b[0m\n",
      "\u001b[0;32m~/anaconda3/envs/oncodriveclustl/lib/python3.5/concurrent/futures/_base.py\u001b[0m in \u001b[0;36m__get_result\u001b[0;34m(self)\u001b[0m\n\u001b[1;32m    355\u001b[0m     \u001b[0;32mdef\u001b[0m \u001b[0m__get_result\u001b[0m\u001b[0;34m(\u001b[0m\u001b[0mself\u001b[0m\u001b[0;34m)\u001b[0m\u001b[0;34m:\u001b[0m\u001b[0;34m\u001b[0m\u001b[0m\n\u001b[1;32m    356\u001b[0m         \u001b[0;32mif\u001b[0m \u001b[0mself\u001b[0m\u001b[0;34m.\u001b[0m\u001b[0m_exception\u001b[0m\u001b[0;34m:\u001b[0m\u001b[0;34m\u001b[0m\u001b[0m\n\u001b[0;32m--> 357\u001b[0;31m             \u001b[0;32mraise\u001b[0m \u001b[0mself\u001b[0m\u001b[0;34m.\u001b[0m\u001b[0m_exception\u001b[0m\u001b[0;34m\u001b[0m\u001b[0m\n\u001b[0m\u001b[1;32m    358\u001b[0m         \u001b[0;32melse\u001b[0m\u001b[0;34m:\u001b[0m\u001b[0;34m\u001b[0m\u001b[0m\n\u001b[1;32m    359\u001b[0m             \u001b[0;32mreturn\u001b[0m \u001b[0mself\u001b[0m\u001b[0;34m.\u001b[0m\u001b[0m_result\u001b[0m\u001b[0;34m\u001b[0m\u001b[0m\n",
      "\u001b[0;31mOverflowError\u001b[0m: math range error"
     ]
    }
   ],
   "source": [
    "results_d = defaultdict()\n",
    "\n",
    "\n",
    "with Pool(max_workers=4) as executor, tqdm(total=len(genes)) as pbar:\n",
    "    for gene, scores in executor.map(odf2.run_region, genes):\n",
    "        pbar.update(1)\n",
    "        CGC = gene in CGC_genes\n",
    "        results_d[gene] = (scores['obs'], scores['sim'], CGC)\n",
    "            \n",
    "sys.stderr.write('Results calculated\\n')"
   ]
  },
  {
   "cell_type": "code",
   "execution_count": 44,
   "metadata": {
    "scrolled": false
   },
   "outputs": [
    {
     "name": "stdout",
     "output_type": "stream",
     "text": [
      "GRIK3\n",
      "0 {'min_l': [0, 0.080296266230563934], 'max': [9, 0.10122779356491746], 'min_r': [35, 0.019459475411067507]}\n",
      "1 {'min_l': [35, 0.019459475411067507], 'max': [50, 0.036057697239255629], 'min_r': [76, 0.0]}\n",
      "2 {'min_l': [88, 0.0], 'max': [114, 0.036057697239255629], 'min_r': [140, 0.0]}\n",
      "3 {'min_l': [171, 0.0], 'max': [199, 0.071264482817881086], 'min_r': [227, 0.0]}\n",
      "4 {'min_l': [259, 0.0], 'max': [295, 0.052357579213137127], 'min_r': [325, 0.01036819761855202]}\n",
      "5 {'min_l': [326, 0.01036819761855202], 'max': [352, 0.063339342213093092], 'min_r': [385, 0.0]}\n",
      "6 {'min_l': [471, 0.0], 'max': [510, 0.040564909394162581], 'min_r': [549, 0.0]}\n",
      "7 {'min_l': [587, 0.0], 'max': [641, 0.10417623718720673], 'min_r': [670, 0.0]}\n",
      "8 {'min_l': [684, 0.0], 'max': [712, 0.071264482817881086], 'min_r': [735, 0.026894773694899253]}\n",
      "9 {'min_l': [735, 0.026894773694899253], 'max': [747, 0.036057697239255629], 'min_r': [773, 0.0]}\n",
      "10 {'min_l': [787, 0.0], 'max': [813, 0.036057697239255629], 'min_r': [831, 0.019553293471572815]}\n",
      "11 {'min_l': [831, 0.019553293471572815], 'max': [849, 0.036057697239255629], 'min_r': [875, 0.0]}\n",
      "12 {'min_l': [890, 0.0], 'max': [916, 0.036057697239255629], 'min_r': [942, 0.0]}\n",
      "13 {'min_l': [1067, 0.0], 'max': [1093, 0.036057697239255629], 'min_r': [1110, 0.023635049796164685]}\n",
      "14 {'min_l': [1110, 0.023635049796164685], 'max': [1127, 0.036057697239255629], 'min_r': [1153, 0.0]}\n",
      "15 {'min_l': [1244, 0.0], 'max': [1270, 0.036057697239255629], 'min_r': [1296, 0.0]}\n",
      "16 {'min_l': [1375, 0.0], 'max': [1401, 0.036057697239255629], 'min_r': [1427, 0.0]}\n",
      "17 {'min_l': [1524, 0.0], 'max': [1550, 0.036057697239255629], 'min_r': [1576, 0.0]}\n",
      "18 {'min_l': [1592, 0.0], 'max': [1618, 0.036057697239255629], 'min_r': [1644, 0.0]}\n",
      "19 {'min_l': [1663, 0.0], 'max': [1689, 0.036057697239255629], 'min_r': [1715, 0.0]}\n",
      "20 {'min_l': [1751, 0.0], 'max': [1777, 0.036057697239255629], 'min_r': [1803, 0.0]}\n",
      "21 {'min_l': [1914, 0.0], 'max': [1940, 0.036057697239255629], 'min_r': [1966, 0.0]}\n",
      "22 {'min_l': [2131, 0.0], 'max': [2157, 0.036057697239255629], 'min_r': [2183, 0.0]}\n",
      "23 {'min_l': [2267, 0.0], 'max': [2293, 0.036057697239255629], 'min_r': [2319, 0.0]}\n",
      "24 {'min_l': [2535, 0.0], 'max': [2564, 0.070207944693267021], 'min_r': [2593, 0.0]}\n",
      "25 {'min_l': [2670, 0.0], 'max': [2699, 0.069474996027132599], 'min_r': [2729, 0.0]}\n",
      "Clusters merged:\n",
      "0 {'min_l': [0, 0.080296266230563934], 'max': [9, 0.10122779356491746], 'min_r': [140, 0.0]}\n",
      "3 {'min_l': [171, 0.0], 'max': [199, 0.071264482817881086], 'min_r': [227, 0.0]}\n",
      "5 {'min_l': [259, 0.0], 'max': [352, 0.063339342213093092], 'min_r': [385, 0.0]}\n",
      "6 {'min_l': [471, 0.0], 'max': [510, 0.040564909394162581], 'min_r': [549, 0.0]}\n",
      "7 {'min_l': [587, 0.0], 'max': [641, 0.10417623718720673], 'min_r': [942, 0.0]}\n",
      "13 {'min_l': [1067, 0.0], 'max': [1093, 0.036057697239255629], 'min_r': [1153, 0.0]}\n",
      "15 {'min_l': [1244, 0.0], 'max': [1270, 0.036057697239255629], 'min_r': [1296, 0.0]}\n",
      "16 {'min_l': [1375, 0.0], 'max': [1401, 0.036057697239255629], 'min_r': [1427, 0.0]}\n",
      "17 {'min_l': [1524, 0.0], 'max': [1550, 0.036057697239255629], 'min_r': [1715, 0.0]}\n",
      "20 {'min_l': [1751, 0.0], 'max': [1777, 0.036057697239255629], 'min_r': [1803, 0.0]}\n",
      "21 {'min_l': [1914, 0.0], 'max': [1940, 0.036057697239255629], 'min_r': [1966, 0.0]}\n",
      "22 {'min_l': [2131, 0.0], 'max': [2157, 0.036057697239255629], 'min_r': [2183, 0.0]}\n",
      "23 {'min_l': [2267, 0.0], 'max': [2293, 0.036057697239255629], 'min_r': [2319, 0.0]}\n",
      "24 {'min_l': [2535, 0.0], 'max': [2564, 0.070207944693267021], 'min_r': [2593, 0.0]}\n",
      "25 {'min_l': [2670, 0.0], 'max': [2699, 0.069474996027132599], 'min_r': [2729, 0.0]}\n",
      "0 {'min_l': [0, 0.0097766467357864074], 'max': [18, 0.036057697239255629], 'min_r': [44, 0.0]}\n",
      "1 {'min_l': [84, 0.0], 'max': [110, 0.036057697239255629], 'min_r': [136, 0.0]}\n",
      "2 {'min_l': [160, 0.0], 'max': [186, 0.036057697239255629], 'min_r': [212, 0.0]}\n",
      "3 {'min_l': [284, 0.0], 'max': [310, 0.036057697239255629], 'min_r': [336, 0.0]}\n",
      "4 {'min_l': [367, 0.0], 'max': [393, 0.036057697239255629], 'min_r': [419, 0.0]}\n",
      "5 {'min_l': [470, 0.0], 'max': [496, 0.036057697239255629], 'min_r': [511, 0.029968202857844888]}\n",
      "6 {'min_l': [512, 0.029968202857844888], 'max': [527, 0.036057697239255629], 'min_r': [553, 0.0]}\n",
      "7 {'min_l': [561, 0.0], 'max': [587, 0.036057697239255629], 'min_r': [613, 0.0]}\n",
      "8 {'min_l': [660, 0.0], 'max': [695, 0.054113136848278134], 'min_r': [731, 0.0]}\n",
      "9 {'min_l': [874, 0.0], 'max': [900, 0.036057697239255629], 'min_r': [926, 0.0]}\n",
      "10 {'min_l': [1014, 0.0], 'max': [1040, 0.036057697239255629], 'min_r': [1066, 0.0]}\n",
      "11 {'min_l': [1067, 0.0], 'max': [1093, 0.036057697239255629], 'min_r': [1110, 0.023635049796164685]}\n",
      "12 {'min_l': [1110, 0.023635049796164685], 'max': [1136, 0.055868694483419148], 'min_r': [1162, 0.021594171633868751]}\n",
      "13 {'min_l': [1163, 0.021594171633868751], 'max': [1180, 0.036057697239255629], 'min_r': [1206, 0.0]}\n",
      "14 {'min_l': [1245, 0.0], 'max': [1282, 0.048609433283681044], 'min_r': [1319, 0.0]}\n",
      "15 {'min_l': [1405, 0.0], 'max': [1459, 0.1007228014814574], 'min_r': [1512, 0.0058175088014596806]}\n",
      "16 {'min_l': [1512, 0.0058175088014596806], 'max': [1534, 0.036057697239255629], 'min_r': [1558, 0.0015781002608126276]}\n",
      "17 {'min_l': [1558, 0.0015781002608126276], 'max': [1602, 0.072662758553974111], 'min_r': [1630, 0.0089202906292564308]}\n",
      "18 {'min_l': [1630, 0.0089202906292564308], 'max': [1653, 0.071264482817881086], 'min_r': [1681, 0.0]}\n",
      "19 {'min_l': [1682, 0.0], 'max': [1708, 0.036057697239255629], 'min_r': [1734, 0.0]}\n",
      "20 {'min_l': [1832, 0.0], 'max': [1858, 0.036057697239255629], 'min_r': [1884, 0.0]}\n",
      "21 {'min_l': [1930, 0.0], 'max': [1956, 0.036057697239255629], 'min_r': [1982, 0.0]}\n",
      "22 {'min_l': [2068, 0.0], 'max': [2094, 0.036057697239255629], 'min_r': [2120, 0.0]}\n",
      "23 {'min_l': [2265, 0.0], 'max': [2291, 0.036057697239255629], 'min_r': [2317, 0.0]}\n",
      "24 {'min_l': [2531, 0.0], 'max': [2557, 0.036057697239255629], 'min_r': [2583, 0.0]}\n",
      "25 {'min_l': [2622, 0.0], 'max': [2648, 0.036057697239255629], 'min_r': [2674, 0.0]}\n",
      "26 {'min_l': [2780, 0.0], 'max': [2806, 0.036057697239255629], 'min_r': [2823, 0.011817524898082342]}\n",
      "Clusters merged:\n",
      "0 {'min_l': [0, 0.0097766467357864074], 'max': [18, 0.036057697239255629], 'min_r': [44, 0.0]}\n",
      "1 {'min_l': [84, 0.0], 'max': [110, 0.036057697239255629], 'min_r': [212, 0.0]}\n",
      "3 {'min_l': [284, 0.0], 'max': [310, 0.036057697239255629], 'min_r': [336, 0.0]}\n",
      "4 {'min_l': [367, 0.0], 'max': [393, 0.036057697239255629], 'min_r': [419, 0.0]}\n",
      "5 {'min_l': [470, 0.0], 'max': [496, 0.036057697239255629], 'min_r': [613, 0.0]}\n",
      "8 {'min_l': [660, 0.0], 'max': [695, 0.054113136848278134], 'min_r': [731, 0.0]}\n",
      "9 {'min_l': [874, 0.0], 'max': [900, 0.036057697239255629], 'min_r': [926, 0.0]}\n",
      "12 {'min_l': [1014, 0.0], 'max': [1136, 0.055868694483419148], 'min_r': [1206, 0.0]}\n",
      "14 {'min_l': [1245, 0.0], 'max': [1282, 0.048609433283681044], 'min_r': [1319, 0.0]}\n",
      "15 {'min_l': [1405, 0.0], 'max': [1459, 0.1007228014814574], 'min_r': [1734, 0.0]}\n",
      "20 {'min_l': [1832, 0.0], 'max': [1858, 0.036057697239255629], 'min_r': [1884, 0.0]}\n",
      "21 {'min_l': [1930, 0.0], 'max': [1956, 0.036057697239255629], 'min_r': [1982, 0.0]}\n",
      "22 {'min_l': [2068, 0.0], 'max': [2094, 0.036057697239255629], 'min_r': [2120, 0.0]}\n",
      "23 {'min_l': [2265, 0.0], 'max': [2291, 0.036057697239255629], 'min_r': [2317, 0.0]}\n",
      "24 {'min_l': [2531, 0.0], 'max': [2557, 0.036057697239255629], 'min_r': [2583, 0.0]}\n",
      "25 {'min_l': [2622, 0.0], 'max': [2648, 0.036057697239255629], 'min_r': [2674, 0.0]}\n",
      "26 {'min_l': [2780, 0.0], 'max': [2806, 0.036057697239255629], 'min_r': [2823, 0.011817524898082342]}\n",
      "LYN\n",
      "0 {'min_l': [261, 0.0], 'max': [287, 0.036057697239255629], 'min_r': [304, 0.021594171633868751]}\n",
      "1 {'min_l': [305, 0.021594171633868751], 'max': [322, 0.036057697239255629], 'min_r': [348, 0.0]}\n",
      "2 {'min_l': [417, 0.0], 'max': [443, 0.036057697239255629], 'min_r': [469, 0.0]}\n",
      "3 {'min_l': [469, 0.0], 'max': [495, 0.036057697239255629], 'min_r': [521, 0.0]}\n",
      "4 {'min_l': [571, 0.0], 'max': [604, 0.10049484489878303], 'min_r': [634, 0.0]}\n",
      "5 {'min_l': [764, 0.0], 'max': [790, 0.036057697239255629], 'min_r': [816, 0.0]}\n",
      "6 {'min_l': [913, 0.0], 'max': [939, 0.036057697239255629], 'min_r': [965, 0.0]}\n",
      "7 {'min_l': [1199, 0.0], 'max': [1225, 0.036057697239255629], 'min_r': [1251, 0.0]}\n",
      "8 {'min_l': [1266, 0.0], 'max': [1292, 0.072008793805893367], 'min_r': [1319, 0.0]}\n",
      "Clusters merged:\n",
      "0 {'min_l': [261, 0.0], 'max': [287, 0.036057697239255629], 'min_r': [348, 0.0]}\n",
      "2 {'min_l': [417, 0.0], 'max': [443, 0.036057697239255629], 'min_r': [521, 0.0]}\n",
      "4 {'min_l': [571, 0.0], 'max': [604, 0.10049484489878303], 'min_r': [634, 0.0]}\n",
      "5 {'min_l': [764, 0.0], 'max': [790, 0.036057697239255629], 'min_r': [816, 0.0]}\n",
      "6 {'min_l': [913, 0.0], 'max': [939, 0.036057697239255629], 'min_r': [965, 0.0]}\n",
      "8 {'min_l': [1199, 0.0], 'max': [1292, 0.072008793805893367], 'min_r': [1319, 0.0]}\n",
      "0 {'min_l': [213, 0.0], 'max': [239, 0.036057697239255629], 'min_r': [265, 0.0]}\n",
      "1 {'min_l': [287, 0.0], 'max': [313, 0.036057697239255629], 'min_r': [339, 0.0]}\n",
      "2 {'min_l': [355, 0.0], 'max': [381, 0.036057697239255629], 'min_r': [407, 0.0]}\n",
      "3 {'min_l': [508, 0.0], 'max': [534, 0.036057697239255629], 'min_r': [560, 0.0]}\n",
      "4 {'min_l': [700, 0.0], 'max': [726, 0.072115394478511258], 'min_r': [752, 0.0]}\n",
      "5 {'min_l': [886, 0.0], 'max': [912, 0.036057697239255629], 'min_r': [938, 0.0]}\n",
      "6 {'min_l': [1043, 0.0], 'max': [1069, 0.036057697239255629], 'min_r': [1088, 0.015658699837913331]}\n",
      "7 {'min_l': [1088, 0.015658699837913331], 'max': [1107, 0.036057697239255629], 'min_r': [1133, 0.0]}\n",
      "8 {'min_l': [1302, 0.0], 'max': [1337, 0.054113136848278134], 'min_r': [1369, 0.0046138128275248474]}\n",
      "9 {'min_l': [1370, 0.0046138128275248474], 'max': [1392, 0.036057697239255629], 'min_r': [1418, 0.0]}\n",
      "Clusters merged:\n",
      "0 {'min_l': [213, 0.0], 'max': [239, 0.036057697239255629], 'min_r': [407, 0.0]}\n",
      "3 {'min_l': [508, 0.0], 'max': [534, 0.036057697239255629], 'min_r': [560, 0.0]}\n",
      "4 {'min_l': [700, 0.0], 'max': [726, 0.072115394478511258], 'min_r': [752, 0.0]}\n",
      "5 {'min_l': [886, 0.0], 'max': [912, 0.036057697239255629], 'min_r': [938, 0.0]}\n",
      "6 {'min_l': [1043, 0.0], 'max': [1069, 0.036057697239255629], 'min_r': [1133, 0.0]}\n",
      "8 {'min_l': [1302, 0.0], 'max': [1337, 0.054113136848278134], 'min_r': [1418, 0.0]}\n",
      "CPU times: user 40 ms, sys: 0 ns, total: 40 ms\n",
      "Wall time: 39.9 ms\n"
     ]
    }
   ],
   "source": [
    "%%time\n",
    "results_short = defaultdict()\n",
    "\n",
    "CGC_genes = set([line.split('\\t')[0] for line in open('/home/carnedo/projects/oncodriveclustl/inputs/CGC/CGCMay17_cancer_types_TCGA.tsv', 'r')])\n",
    "\n",
    "for gene, scores in map(odf2.run_region, genes[278:280]):\n",
    "    CGC = gene in CGC_genes\n",
    "    results_short[gene] = (scores['obs'], scores['sim'], CGC)\n"
   ]
  },
  {
   "cell_type": "code",
   "execution_count": 40,
   "metadata": {},
   "outputs": [
    {
     "ename": "NameError",
     "evalue": "name 'write_results2' is not defined",
     "output_type": "error",
     "traceback": [
      "\u001b[0;31m---------------------------------------------------------------------------\u001b[0m",
      "\u001b[0;31mNameError\u001b[0m                                 Traceback (most recent call last)",
      "\u001b[0;32m<ipython-input-40-f26cbf9b9e00>\u001b[0m in \u001b[0;36m<module>\u001b[0;34m()\u001b[0m\n\u001b[0;32m----> 1\u001b[0;31m \u001b[0mwrite_results2\u001b[0m\u001b[0;34m(\u001b[0m\u001b[0mresults_short\u001b[0m\u001b[0;34m,\u001b[0m \u001b[0mOUTPUT_FILE\u001b[0m\u001b[0;34m)\u001b[0m\u001b[0;34m\u001b[0m\u001b[0m\n\u001b[0m",
      "\u001b[0;31mNameError\u001b[0m: name 'write_results2' is not defined"
     ]
    }
   ],
   "source": [
    "write_results2(results_short, OUTPUT_FILE)"
   ]
  },
  {
   "cell_type": "markdown",
   "metadata": {},
   "source": [
    "### Profiling"
   ]
  },
  {
   "cell_type": "code",
   "execution_count": 23,
   "metadata": {
    "scrolled": true
   },
   "outputs": [],
   "source": [
    "%lprun -f odf.clustering odf2.run_region(genes[10])"
   ]
  },
  {
   "cell_type": "markdown",
   "metadata": {},
   "source": [
    "### N in trinucleotide"
   ]
  },
  {
   "cell_type": "code",
   "execution_count": 114,
   "metadata": {},
   "outputs": [
    {
     "name": "stdout",
     "output_type": "stream",
     "text": [
      "---------------\n",
      "ACG\n",
      "No N\n",
      "---------------\n",
      "TTG\n",
      "No N\n",
      "---------------\n",
      "AAA\n",
      "No N\n",
      "---------------\n",
      "GCG\n",
      "No N\n",
      "---------------\n",
      "NAG\n",
      "{'AAG', 'TAG', 'CAG', 'GAG'}\n",
      "AAG TAG\n",
      "·····\n",
      "AAG CAG\n",
      "·····\n",
      "AAG GAG\n",
      "·····\n",
      "TAG AAG\n",
      "·····\n",
      "TAG CAG\n",
      "·····\n",
      "TAG GAG\n",
      "·····\n",
      "CAG AAG\n",
      "·····\n",
      "CAG TAG\n",
      "·····\n",
      "CAG GAG\n",
      "·····\n",
      "GAG AAG\n",
      "·····\n",
      "GAG TAG\n",
      "·····\n",
      "GAG CAG\n",
      "·····\n",
      "---------------\n",
      "CNA\n",
      "{'CCA', 'CGA', 'CAA', 'CTA'}\n",
      "CCA CGA\n",
      "·····\n",
      "CCA CAA\n",
      "·····\n",
      "CCA CTA\n",
      "·····\n",
      "CGA CCA\n",
      "·····\n",
      "CGA CAA\n",
      "·····\n",
      "CGA CTA\n",
      "·····\n",
      "CAA CCA\n",
      "·····\n",
      "CAA CGA\n",
      "·····\n",
      "CAA CTA\n",
      "·····\n",
      "CTA CCA\n",
      "·····\n",
      "CTA CGA\n",
      "·····\n",
      "CTA CAA\n",
      "·····\n",
      "---------------\n",
      "ANN\n",
      "Two N in trinucleotide found\n",
      "---------------\n",
      "NNG\n",
      "Two N in trinucleotide found\n",
      "---------------\n",
      "NNN\n",
      "Two N in trinucleotide found\n"
     ]
    }
   ],
   "source": [
    "import re\n",
    "\n",
    "p1 = re.compile('[N]{1}')\n",
    "p2 = re.compile('[N]{2}')\n",
    "\n",
    "nucleot = {'A', 'C', 'G', 'T'}\n",
    "\n",
    "tri = ['ACG', 'TTG', 'AAA', 'GCG', 'NAG', 'CNA', 'ANN', 'NNG', 'NNN']\n",
    "\n",
    "for element in tri: \n",
    "    print('---------------')\n",
    "    print(element)\n",
    "    two_N = p2.search(element)\n",
    "    one_N = p1.search(element)\n",
    "    \n",
    "    if two_N is None:\n",
    "        # No N\n",
    "        if one_N is None:\n",
    "            print('No N')\n",
    "        # One N\n",
    "        else:\n",
    "            new_tris = set()\n",
    "            prob = 0\n",
    "            for nuc in nucleot:\n",
    "                new_tris.add(re.sub('N', nuc, element))\n",
    "            print(new_tris)\n",
    "            \n",
    "            for element in new_tris: \n",
    "                for change in new_tris.difference(set([element])): \n",
    "                    print(element, change)\n",
    "                    print('·····')\n",
    "    # Two or three N\n",
    "    else:\n",
    "        print('Two N in trinucleotide found')\n"
   ]
  },
  {
   "cell_type": "markdown",
   "metadata": {},
   "source": [
    "### Error clusters min_r solved"
   ]
  },
  {
   "cell_type": "code",
   "execution_count": null,
   "metadata": {
    "collapsed": true
   },
   "outputs": [],
   "source": [
    "g = 'WDPCP'\n",
    "symbol = g\n",
    "chromosome = chromosomes_d[g]\n",
    "regions = regions_d[g]\n",
    "mutations = mutations_d[g]\n",
    "n_simulations = 3"
   ]
  },
  {
   "cell_type": "code",
   "execution_count": null,
   "metadata": {
    "collapsed": true,
    "scrolled": true
   },
   "outputs": [],
   "source": [
    "region_arrays = odf.get_arrays(symbol, chromosome, regions, signatures)\n",
    "\n",
    "# Analysis of the observed mutations\n",
    "observed_results = odf3.analysis(region_arrays, mutations, window_s=50, window_c=50)\n",
    "\n",
    "# Analysis of the simulated mutations\n",
    "for i in range(15000): \n",
    "    simulations = []\n",
    "    for _ in range(n_simulations):\n",
    "        print(i)\n",
    "        simulated_mutations = odf3.simulate(array_positions=region_arrays['genomic'], n_mutations=len(mutations), pos_prob=region_arrays['probs'])\n",
    "        print(simulated_mutations)\n",
    "        simulated_results = odf3.analysis(region_arrays, simulated_mutations, window_s=50, window_c=50)\n",
    "        print('analysis done')\n",
    "        #simulations.append(simulated_results)\n",
    "\n",
    "    print(symbol)"
   ]
  },
  {
   "cell_type": "code",
   "execution_count": null,
   "metadata": {
    "collapsed": true
   },
   "outputs": [],
   "source": [
    "simulated_mutations"
   ]
  },
  {
   "cell_type": "code",
   "execution_count": null,
   "metadata": {
    "collapsed": true
   },
   "outputs": [],
   "source": [
    "testneg = [ 63815406,  63712106,  63631205,  63401851,  63712054,  63664599,\n",
    "  63815406,  63631539,  63631422,  63605591]"
   ]
  },
  {
   "cell_type": "code",
   "execution_count": null,
   "metadata": {
    "collapsed": true
   },
   "outputs": [],
   "source": [
    "testpos = [ 63631649,  63605587,  63664658, 63815350, 63486545, 63540419,\n",
    "  63401818, 63631546, 63401895, 63401927,]"
   ]
  },
  {
   "cell_type": "code",
   "execution_count": null,
   "metadata": {
    "collapsed": true,
    "scrolled": false
   },
   "outputs": [],
   "source": [
    "odf3.analysis(region_arrays, testneg, window_s=50, window_c=50)"
   ]
  },
  {
   "cell_type": "code",
   "execution_count": null,
   "metadata": {
    "collapsed": true,
    "scrolled": true
   },
   "outputs": [],
   "source": [
    "results_d = defaultdict()\n",
    "for gene, results in map(odf3.run_region, genes):\n",
    "    results_d[gene] = results"
   ]
  },
  {
   "cell_type": "code",
   "execution_count": null,
   "metadata": {
    "collapsed": true
   },
   "outputs": [],
   "source": []
  },
  {
   "cell_type": "code",
   "execution_count": null,
   "metadata": {
    "collapsed": true
   },
   "outputs": [],
   "source": []
  }
 ],
 "metadata": {
  "kernelspec": {
   "display_name": "Python [conda env:oncodriveclustl]",
   "language": "python",
   "name": "conda-env-oncodriveclustl-py"
  },
  "language_info": {
   "codemirror_mode": {
    "name": "ipython",
    "version": 3
   },
   "file_extension": ".py",
   "mimetype": "text/x-python",
   "name": "python",
   "nbconvert_exporter": "python",
   "pygments_lexer": "ipython3",
   "version": "3.5.3"
  }
 },
 "nbformat": 4,
 "nbformat_minor": 2
}
