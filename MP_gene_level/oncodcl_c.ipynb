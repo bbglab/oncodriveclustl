{
 "cells": [
  {
   "cell_type": "markdown",
   "metadata": {
    "slideshow": {
     "slide_type": "slide"
    }
   },
   "source": [
    "# OncodriveCLUSTL"
   ]
  },
  {
   "cell_type": "code",
   "execution_count": 1,
   "metadata": {
    "collapsed": true,
    "slideshow": {
     "slide_type": "slide"
    }
   },
   "outputs": [],
   "source": [
    "%matplotlib inline\n",
    "\n",
    "import gzip\n",
    "from collections import defaultdict\n",
    "\n",
    "import numpy as np\n",
    "import pandas as pd\n",
    "from intervaltree import IntervalTree\n",
    "from scipy.signal import argrelmax\n",
    "import math as m\n",
    "\n",
    "import matplotlib.pyplot as plt\n",
    "from matplotlib.patches import Rectangle\n",
    "\n",
    "from oncodcl_funct import *"
   ]
  },
  {
   "cell_type": "markdown",
   "metadata": {},
   "source": [
    "### Automatically incorporates changes in the *oncodcl_funct* module "
   ]
  },
  {
   "cell_type": "code",
   "execution_count": 2,
   "metadata": {
    "collapsed": true
   },
   "outputs": [],
   "source": [
    "%load_ext autoreload\n",
    "%autoreload 2"
   ]
  },
  {
   "cell_type": "markdown",
   "metadata": {},
   "source": [
    "#### Load parameters"
   ]
  },
  {
   "cell_type": "code",
   "execution_count": 3,
   "metadata": {
    "collapsed": true
   },
   "outputs": [],
   "source": [
    "# Smoothing\n",
    "genemut = 2\n",
    "smoothw = 50\n",
    "\n",
    "# Clustering\n",
    "clusterw = 50\n",
    "clustermut = 2\n",
    "clusterscore = 'nobias' # 'nmutations', 'genelenght', 'nobias'"
   ]
  },
  {
   "cell_type": "markdown",
   "metadata": {},
   "source": [
    "### Parse regions"
   ]
  },
  {
   "cell_type": "markdown",
   "metadata": {},
   "source": [
    "\n",
    "Why do some gene and transcript ids start with ENSGR or ENSTR in the GTF/GFF3?\n",
    "\n",
    "The Ensembl ids, by convention, are made of a species index (\"ENS\" for human and \"ENSMUS\" for mouse) followed by a feature type indicator (\"G\" for gene, \"T\" for transcript, \"E\" for exon, \"P\" for translation) and an 11-number figure.\n",
    "\n",
    "The GENCODE GTF/GFF3 files make an exception to this rule in the case of the so called \"pseudoautosomal regions\" (PAR) of chromosome Y. The gene annotation in these regions is identical between chromosomes X and Y. Ensembl do not provide different feature ids for both chromosomes. The Ensembl GTF file only includes this annotation once, for chromosome X. However, we decided that the GENCODE GTF/GFF3 files would include the annotation in the PAR regions of both chromosomes.\n",
    "\n",
    "Since the GTF convention dictates that feature ids have to be unique for different genome regions, we slightly modify the Ensembl feature id by replacing the first zero with an \"R\". Thus, \"ENSG00000182378.10\" in chromosome X becomes \"ENSGR0000182378.10\" in chromosome Y.\n",
    "\n",
    "Please note that this applies until release 24. From release 25, the PAR genes and transcripts have \"_PAR_Y\" appended to their ids.\n",
    "\n",
    "This annotation is also labeled using the tag \"PAR\".\n",
    "\n",
    "https://www.gencodegenes.org/faq.html\n"
   ]
  },
  {
   "cell_type": "code",
   "execution_count": 4,
   "metadata": {
    "collapsed": true
   },
   "outputs": [],
   "source": [
    "input_regions = '/home/carnedo/projects/oncodriveclustl/inputs/regions/02_cds.regions.gz'"
   ]
  },
  {
   "cell_type": "code",
   "execution_count": 5,
   "metadata": {},
   "outputs": [
    {
     "name": "stdout",
     "output_type": "stream",
     "text": [
      "CPU times: user 12.6 s, sys: 52 ms, total: 12.7 s\n",
      "Wall time: 12.7 s\n"
     ]
    }
   ],
   "source": [
    "%%time\n",
    "trees, regions_d, chromosomes_d = regions(input_regions)"
   ]
  },
  {
   "cell_type": "markdown",
   "metadata": {},
   "source": [
    "### Read mutations file and intersect with regions"
   ]
  },
  {
   "cell_type": "code",
   "execution_count": 6,
   "metadata": {
    "collapsed": true
   },
   "outputs": [],
   "source": [
    "input_mutations = '/home/carnedo/projects/oncodriveclustl/inputs/mutations/pancanatlas/SKCM.txt'"
   ]
  },
  {
   "cell_type": "code",
   "execution_count": 7,
   "metadata": {},
   "outputs": [
    {
     "name": "stdout",
     "output_type": "stream",
     "text": [
      "CPU times: user 8.87 s, sys: 20 ms, total: 8.89 s\n",
      "Wall time: 8.89 s\n"
     ]
    }
   ],
   "source": [
    "%%time\n",
    "mutations_d = read_mutations(input_mutations, trees)"
   ]
  },
  {
   "cell_type": "markdown",
   "metadata": {},
   "source": [
    "#### Testing problems 20170809"
   ]
  },
  {
   "cell_type": "code",
   "execution_count": 8,
   "metadata": {},
   "outputs": [
    {
     "ename": "NameError",
     "evalue": "name 'total_regions' is not defined",
     "output_type": "error",
     "traceback": [
      "\u001b[0;31m---------------------------------------------------------------------------\u001b[0m",
      "\u001b[0;31mNameError\u001b[0m                                 Traceback (most recent call last)",
      "\u001b[0;32m<ipython-input-8-b16c2c4a0356>\u001b[0m in \u001b[0;36m<module>\u001b[0;34m()\u001b[0m\n\u001b[1;32m      3\u001b[0m \u001b[0mgene\u001b[0m \u001b[0;34m=\u001b[0m \u001b[0;34m'GRIK3'\u001b[0m\u001b[0;34m\u001b[0m\u001b[0m\n\u001b[1;32m      4\u001b[0m \u001b[0;34m\u001b[0m\u001b[0m\n\u001b[0;32m----> 5\u001b[0;31m \u001b[0mplot_max\u001b[0m \u001b[0;34m=\u001b[0m \u001b[0mnp\u001b[0m\u001b[0;34m.\u001b[0m\u001b[0mzeros\u001b[0m\u001b[0;34m(\u001b[0m\u001b[0mlen\u001b[0m\u001b[0;34m(\u001b[0m\u001b[0mtotal_regions\u001b[0m\u001b[0;34m[\u001b[0m\u001b[0mgene\u001b[0m\u001b[0;34m]\u001b[0m\u001b[0;34m[\u001b[0m\u001b[0;34m'binary'\u001b[0m\u001b[0;34m]\u001b[0m\u001b[0;34m)\u001b[0m\u001b[0;34m)\u001b[0m\u001b[0;34m\u001b[0m\u001b[0m\n\u001b[0m\u001b[1;32m      6\u001b[0m \u001b[0mplot_min_l\u001b[0m \u001b[0;34m=\u001b[0m \u001b[0mnp\u001b[0m\u001b[0;34m.\u001b[0m\u001b[0mzeros\u001b[0m\u001b[0;34m(\u001b[0m\u001b[0mlen\u001b[0m\u001b[0;34m(\u001b[0m\u001b[0mtotal_regions\u001b[0m\u001b[0;34m[\u001b[0m\u001b[0mgene\u001b[0m\u001b[0;34m]\u001b[0m\u001b[0;34m[\u001b[0m\u001b[0;34m'binary'\u001b[0m\u001b[0;34m]\u001b[0m\u001b[0;34m)\u001b[0m\u001b[0;34m)\u001b[0m\u001b[0;34m\u001b[0m\u001b[0m\n\u001b[1;32m      7\u001b[0m \u001b[0mplot_min_r\u001b[0m \u001b[0;34m=\u001b[0m \u001b[0mnp\u001b[0m\u001b[0;34m.\u001b[0m\u001b[0mzeros\u001b[0m\u001b[0;34m(\u001b[0m\u001b[0mlen\u001b[0m\u001b[0;34m(\u001b[0m\u001b[0mtotal_regions\u001b[0m\u001b[0;34m[\u001b[0m\u001b[0mgene\u001b[0m\u001b[0;34m]\u001b[0m\u001b[0;34m[\u001b[0m\u001b[0;34m'binary'\u001b[0m\u001b[0;34m]\u001b[0m\u001b[0;34m)\u001b[0m\u001b[0;34m)\u001b[0m\u001b[0;34m\u001b[0m\u001b[0m\n",
      "\u001b[0;31mNameError\u001b[0m: name 'total_regions' is not defined"
     ]
    }
   ],
   "source": [
    "# plot clusters \n",
    "\n",
    "gene = 'GRIK3'\n",
    "\n",
    "plot_max = np.zeros(len(total_regions[gene]['binary']))\n",
    "plot_min_l = np.zeros(len(total_regions[gene]['binary']))\n",
    "plot_min_r = np.zeros(len(total_regions[gene]['binary']))\n",
    "\n",
    "# Change 0 to nan for matplotlib        \n",
    "plot_max[ plot_max==0.0 ] = np.nan\n",
    "plot_min_l[ plot_min_l==0.0 ] = np.nan \n",
    "plot_min_r[ plot_min_r==0.0 ] = np.nan\n",
    "\n",
    "\n",
    "plt.figure(figsize=(26, 8))\n",
    "ax1 = plt.subplot2grid((1, 5), (0, 0), colspan=4)\n",
    "\n",
    "ax1.plot(binary, c='cornflowerblue')\n",
    "ax1.set_ylabel('smoothing score', color='cornflowerblue', fontsize=20)\n",
    "\n",
    "ax2 = ax1.twinx()\n",
    "ax2.plot(mutations, c='red')\n",
    "ax2.set_ylabel('n mutations', color='red', fontsize=20)\n",
    "\n",
    "length = len(total_regions[gene]['binary'])\n",
    "\n",
    "ax1.tick_params('y', colors='cornflowerblue', labelsize=15)\n",
    "ax2.tick_params('y', colors='red', labelsize=15)\n",
    "\n",
    "plt.title('TP53 Melanoma', fontsize=20)\n",
    "#ax1.set_xlabel('Nucleotides', fontsize=20)\n",
    "plt.savefig(plot)"
   ]
  },
  {
   "cell_type": "markdown",
   "metadata": {},
   "source": [
    "### Smooth"
   ]
  },
  {
   "cell_type": "code",
   "execution_count": 10,
   "metadata": {
    "scrolled": true
   },
   "outputs": [
    {
     "ename": "TypeError",
     "evalue": "smoothing() got an unexpected keyword argument 'regions'",
     "output_type": "error",
     "traceback": [
      "\u001b[0;31m---------------------------------------------------------------------------\u001b[0m",
      "\u001b[0;31mTypeError\u001b[0m                                 Traceback (most recent call last)",
      "\u001b[0;32m<timed exec>\u001b[0m in \u001b[0;36m<module>\u001b[0;34m()\u001b[0m\n",
      "\u001b[0;31mTypeError\u001b[0m: smoothing() got an unexpected keyword argument 'regions'"
     ]
    }
   ],
   "source": [
    "%%time\n",
    "total_regions = defaultdict(dict)\n",
    "for gene in regions_d.keys():\n",
    "    # Analyze only genes with mutations >= n mutations\n",
    "    if len(mutations_d[gene]) >= genemut:\n",
    "        region_info = smoothing(regions=regions_d[gene], mutations=mutations_d[gene], window=smoothw)\n",
    "        # dictionary with regions of all genes\n",
    "        total_regions[region_info['symbol']] = region_info\n",
    "\n",
    "len(total_regions.keys())"
   ]
  },
  {
   "cell_type": "markdown",
   "metadata": {
    "collapsed": true
   },
   "source": [
    "## Clusters"
   ]
  },
  {
   "cell_type": "markdown",
   "metadata": {},
   "source": [
    "- Find local maximum and minimum after smoothing for whole cds, according to smoothing score\n",
    "- Define raw clusters: min(left), max, min(right) ----> Add filter? (ex. clusters wit max > smoothing score of 1 mutation)\n",
    "- Starting from first maximum in the sequence, search for other relative maximum close to its min(right) border. \n",
    "- If there is one, check which of both maximum has a higher smoothing score and merge clusters by updating borders of the highest maximum. The lowest maximum (cluster) is removed from the dictionary of clusters. Iterate through all clusters until no updates are observed. \n",
    "- Filter clusters, minimum n mutations. Concerns: genes without clusters! \n",
    "- Score clusters. Two scores implemented: using position of smoothing maximum or mutation maximum within the cluster.\n",
    "\n",
    "Questions: \n",
    "- Clusters calculation assuming + strand? YES ---> Take into account for plots"
   ]
  },
  {
   "cell_type": "code",
   "execution_count": 26,
   "metadata": {
    "scrolled": true
   },
   "outputs": [
    {
     "name": "stdout",
     "output_type": "stream",
     "text": [
      "15561\n",
      "CPU times: user 49.4 s, sys: 48 ms, total: 49.4 s\n",
      "Wall time: 49.4 s\n"
     ]
    }
   ],
   "source": [
    "%%time\n",
    "total_clusters = defaultdict(dict)\n",
    "\n",
    "for gene in total_regions.keys():\n",
    "    clusters = clustering(regions=total_regions[gene], mutations=mutations_d[gene], window=clusterw)\n",
    "    if len(clusters.keys()) != 0: \n",
    "        total_clusters[gene] = clusters\n",
    "    \n",
    "print(len(total_clusters.keys()))"
   ]
  },
  {
   "cell_type": "code",
   "execution_count": 27,
   "metadata": {},
   "outputs": [
    {
     "name": "stdout",
     "output_type": "stream",
     "text": [
      "defaultdict(<class 'dict'>, {0: {'score': 101.52699825132694, 'n_mutations': 117, 'min_r': [440, 0.0], 'max': [387, 4.1769383371525972], 'min_l': [359, 0.0]}, 1: {'score': 4.3284271247461898, 'n_mutations': 7, 'min_r': [562, 0.0], 'max': [534, 0.25070111049337263], 'min_l': [506, 0.0]}})\n"
     ]
    }
   ],
   "source": [
    "print(total_clusters['NRAS'])"
   ]
  },
  {
   "cell_type": "markdown",
   "metadata": {},
   "source": [
    "## Output results"
   ]
  },
  {
   "cell_type": "markdown",
   "metadata": {},
   "source": [
    "### Read CGC genes"
   ]
  },
  {
   "cell_type": "code",
   "execution_count": 11,
   "metadata": {
    "collapsed": true
   },
   "outputs": [],
   "source": [
    "CGC = set([line.split('\\t')[0] for line in open('/home/carnedo/projects/oncodriveclustl/inputs/CGC/CGCMay17_cancer_types_TCGA.tsv', 'r')])"
   ]
  },
  {
   "cell_type": "markdown",
   "metadata": {},
   "source": [
    "### Tables"
   ]
  },
  {
   "cell_type": "code",
   "execution_count": 30,
   "metadata": {
    "collapsed": true
   },
   "outputs": [],
   "source": [
    "out = '/home/carnedo/projects/oncodriveclustl/outputs/'"
   ]
  },
  {
   "cell_type": "code",
   "execution_count": 31,
   "metadata": {
    "collapsed": true
   },
   "outputs": [],
   "source": [
    "#### Print table\n",
    "clusters_table = out+'clusters_testing.tab'\n",
    "with open(clusters_table, 'w') as fd:\n",
    "    fd.write('Gene\\tCluster\\tMin_l\\tMax\\tMin_r\\tWidth\\tMut\\tTotalmut\\tScore\\n')\n",
    "    for gene, clusters in sorted(total_clusters.items()): \n",
    "        for cluster, values in clusters.items(): \n",
    "            if values['min_l'] != [] and values['min_r'] != []: \n",
    "                width = abs(values['min_l'][0] - values['min_r'][0])\n",
    "                fd.write(\"%s\\t%s\\t%s\\t%s\\t%s\\t%s\\t%s\\t%s\\t%.4f\\n\" %(gene, cluster, values['min_l'][0], values['max'][0], values['min_r'][0], width, values['n_mutations'], len(mutations_d[gene]), values['score']))\n",
    "            elif values['min_l'] == []: \n",
    "                width = abs(values['max'][0] - values['min_r'][0])\n",
    "                fd.write(\"%s\\t%s\\t%s\\t%s\\t%s\\t%s\\t%s\\t%s\\t%.4f\\n\" %(gene, cluster, values['min_l'], values['max'][0], values['min_r'][0], width, values['n_mutations'], len(mutations_d[gene]), values['score']))\n",
    "            elif values['min_r'] == []: \n",
    "                width = abs(values['min_l'][0] - values['max'][0])\n",
    "                fd.write(\"%s\\t%s\\t%s\\t%s\\t%s\\t%s\\t%s\\t%s\\t%.4f\\n\" %(gene, cluster, values['min_l'][0], values['max'][0], values['min_r'], width, values['n_mutations'], len(mutations_d[gene]), values['score']))"
   ]
  },
  {
   "cell_type": "code",
   "execution_count": 32,
   "metadata": {
    "collapsed": true
   },
   "outputs": [],
   "source": [
    "df = pd.read_csv(clusters_table, sep='\\t', header=0)\n",
    "df['CGC'] = df['Gene'].map(lambda x: x in CGC)\n",
    "df.sort_values(by=['Score', 'CGC'], ascending=[False, False], inplace=True)\n",
    "df.to_csv(path_or_buf=clusters_table, sep='\\t', na_rep='')"
   ]
  },
  {
   "cell_type": "code",
   "execution_count": 33,
   "metadata": {
    "scrolled": false
   },
   "outputs": [
    {
     "data": {
      "text/html": [
       "<div>\n",
       "<style>\n",
       "    .dataframe thead tr:only-child th {\n",
       "        text-align: right;\n",
       "    }\n",
       "\n",
       "    .dataframe thead th {\n",
       "        text-align: left;\n",
       "    }\n",
       "\n",
       "    .dataframe tbody tr th {\n",
       "        vertical-align: top;\n",
       "    }\n",
       "</style>\n",
       "<table border=\"1\" class=\"dataframe\">\n",
       "  <thead>\n",
       "    <tr style=\"text-align: right;\">\n",
       "      <th></th>\n",
       "      <th>Gene</th>\n",
       "      <th>Cluster</th>\n",
       "      <th>Min_l</th>\n",
       "      <th>Max</th>\n",
       "      <th>Min_r</th>\n",
       "      <th>Width</th>\n",
       "      <th>Mut</th>\n",
       "      <th>Totalmut</th>\n",
       "      <th>Score</th>\n",
       "      <th>CGC</th>\n",
       "    </tr>\n",
       "  </thead>\n",
       "  <tbody>\n",
       "    <tr>\n",
       "      <th>9721</th>\n",
       "      <td>BRAF</td>\n",
       "      <td>2</td>\n",
       "      <td>495</td>\n",
       "      <td>523</td>\n",
       "      <td>608</td>\n",
       "      <td>113</td>\n",
       "      <td>247</td>\n",
       "      <td>269</td>\n",
       "      <td>228.4156</td>\n",
       "      <td>True</td>\n",
       "    </tr>\n",
       "    <tr>\n",
       "      <th>58335</th>\n",
       "      <td>NRAS</td>\n",
       "      <td>0</td>\n",
       "      <td>359</td>\n",
       "      <td>387</td>\n",
       "      <td>440</td>\n",
       "      <td>81</td>\n",
       "      <td>117</td>\n",
       "      <td>124</td>\n",
       "      <td>101.5270</td>\n",
       "      <td>True</td>\n",
       "    </tr>\n",
       "    <tr>\n",
       "      <th>39544</th>\n",
       "      <td>IDH1</td>\n",
       "      <td>4</td>\n",
       "      <td>827</td>\n",
       "      <td>854</td>\n",
       "      <td>880</td>\n",
       "      <td>53</td>\n",
       "      <td>17</td>\n",
       "      <td>23</td>\n",
       "      <td>16.4142</td>\n",
       "      <td>True</td>\n",
       "    </tr>\n",
       "    <tr>\n",
       "      <th>79748</th>\n",
       "      <td>SLC27A5</td>\n",
       "      <td>0</td>\n",
       "      <td>385</td>\n",
       "      <td>412</td>\n",
       "      <td>451</td>\n",
       "      <td>66</td>\n",
       "      <td>18</td>\n",
       "      <td>21</td>\n",
       "      <td>15.2537</td>\n",
       "      <td>False</td>\n",
       "    </tr>\n",
       "    <tr>\n",
       "      <th>49594</th>\n",
       "      <td>MAP2K1</td>\n",
       "      <td>1</td>\n",
       "      <td>327</td>\n",
       "      <td>371</td>\n",
       "      <td>414</td>\n",
       "      <td>87</td>\n",
       "      <td>20</td>\n",
       "      <td>28</td>\n",
       "      <td>15.0206</td>\n",
       "      <td>True</td>\n",
       "    </tr>\n",
       "    <tr>\n",
       "      <th>8998</th>\n",
       "      <td>BCL2L12</td>\n",
       "      <td>1</td>\n",
       "      <td>0</td>\n",
       "      <td>50</td>\n",
       "      <td>77</td>\n",
       "      <td>77</td>\n",
       "      <td>17</td>\n",
       "      <td>23</td>\n",
       "      <td>12.1217</td>\n",
       "      <td>False</td>\n",
       "    </tr>\n",
       "    <tr>\n",
       "      <th>71621</th>\n",
       "      <td>RAC1</td>\n",
       "      <td>1</td>\n",
       "      <td>15</td>\n",
       "      <td>86</td>\n",
       "      <td>125</td>\n",
       "      <td>110</td>\n",
       "      <td>18</td>\n",
       "      <td>20</td>\n",
       "      <td>11.8776</td>\n",
       "      <td>True</td>\n",
       "    </tr>\n",
       "    <tr>\n",
       "      <th>68820</th>\n",
       "      <td>PPP6C</td>\n",
       "      <td>1</td>\n",
       "      <td>80</td>\n",
       "      <td>125</td>\n",
       "      <td>166</td>\n",
       "      <td>86</td>\n",
       "      <td>15</td>\n",
       "      <td>29</td>\n",
       "      <td>11.0161</td>\n",
       "      <td>True</td>\n",
       "    </tr>\n",
       "    <tr>\n",
       "      <th>74822</th>\n",
       "      <td>RQCD1</td>\n",
       "      <td>1</td>\n",
       "      <td>368</td>\n",
       "      <td>394</td>\n",
       "      <td>420</td>\n",
       "      <td>52</td>\n",
       "      <td>10</td>\n",
       "      <td>13</td>\n",
       "      <td>10.0000</td>\n",
       "      <td>False</td>\n",
       "    </tr>\n",
       "    <tr>\n",
       "      <th>68212</th>\n",
       "      <td>POTEH</td>\n",
       "      <td>3</td>\n",
       "      <td>640</td>\n",
       "      <td>666</td>\n",
       "      <td>721</td>\n",
       "      <td>81</td>\n",
       "      <td>10</td>\n",
       "      <td>39</td>\n",
       "      <td>9.0000</td>\n",
       "      <td>False</td>\n",
       "    </tr>\n",
       "    <tr>\n",
       "      <th>9884</th>\n",
       "      <td>BRINP1</td>\n",
       "      <td>1</td>\n",
       "      <td>118</td>\n",
       "      <td>144</td>\n",
       "      <td>211</td>\n",
       "      <td>93</td>\n",
       "      <td>12</td>\n",
       "      <td>79</td>\n",
       "      <td>8.0002</td>\n",
       "      <td>False</td>\n",
       "    </tr>\n",
       "    <tr>\n",
       "      <th>18149</th>\n",
       "      <td>CNTN5</td>\n",
       "      <td>11</td>\n",
       "      <td>1230</td>\n",
       "      <td>1265</td>\n",
       "      <td>1400</td>\n",
       "      <td>170</td>\n",
       "      <td>15</td>\n",
       "      <td>97</td>\n",
       "      <td>7.3977</td>\n",
       "      <td>False</td>\n",
       "    </tr>\n",
       "    <tr>\n",
       "      <th>96571</th>\n",
       "      <td>XIRP2</td>\n",
       "      <td>29</td>\n",
       "      <td>2525</td>\n",
       "      <td>2597</td>\n",
       "      <td>2623</td>\n",
       "      <td>98</td>\n",
       "      <td>9</td>\n",
       "      <td>213</td>\n",
       "      <td>7.3536</td>\n",
       "      <td>False</td>\n",
       "    </tr>\n",
       "    <tr>\n",
       "      <th>44710</th>\n",
       "      <td>KLHDC7A</td>\n",
       "      <td>18</td>\n",
       "      <td>1823</td>\n",
       "      <td>1903</td>\n",
       "      <td>1936</td>\n",
       "      <td>113</td>\n",
       "      <td>14</td>\n",
       "      <td>60</td>\n",
       "      <td>7.2478</td>\n",
       "      <td>False</td>\n",
       "    </tr>\n",
       "    <tr>\n",
       "      <th>59940</th>\n",
       "      <td>OR11H1</td>\n",
       "      <td>5</td>\n",
       "      <td>672</td>\n",
       "      <td>742</td>\n",
       "      <td>800</td>\n",
       "      <td>128</td>\n",
       "      <td>10</td>\n",
       "      <td>22</td>\n",
       "      <td>7.0000</td>\n",
       "      <td>False</td>\n",
       "    </tr>\n",
       "  </tbody>\n",
       "</table>\n",
       "</div>"
      ],
      "text/plain": [
       "          Gene  Cluster Min_l   Max  Min_r  Width  Mut  Totalmut     Score  \\\n",
       "9721      BRAF        2   495   523    608    113  247       269  228.4156   \n",
       "58335     NRAS        0   359   387    440     81  117       124  101.5270   \n",
       "39544     IDH1        4   827   854    880     53   17        23   16.4142   \n",
       "79748  SLC27A5        0   385   412    451     66   18        21   15.2537   \n",
       "49594   MAP2K1        1   327   371    414     87   20        28   15.0206   \n",
       "8998   BCL2L12        1     0    50     77     77   17        23   12.1217   \n",
       "71621     RAC1        1    15    86    125    110   18        20   11.8776   \n",
       "68820    PPP6C        1    80   125    166     86   15        29   11.0161   \n",
       "74822    RQCD1        1   368   394    420     52   10        13   10.0000   \n",
       "68212    POTEH        3   640   666    721     81   10        39    9.0000   \n",
       "9884    BRINP1        1   118   144    211     93   12        79    8.0002   \n",
       "18149    CNTN5       11  1230  1265   1400    170   15        97    7.3977   \n",
       "96571    XIRP2       29  2525  2597   2623     98    9       213    7.3536   \n",
       "44710  KLHDC7A       18  1823  1903   1936    113   14        60    7.2478   \n",
       "59940   OR11H1        5   672   742    800    128   10        22    7.0000   \n",
       "\n",
       "         CGC  \n",
       "9721    True  \n",
       "58335   True  \n",
       "39544   True  \n",
       "79748  False  \n",
       "49594   True  \n",
       "8998   False  \n",
       "71621   True  \n",
       "68820   True  \n",
       "74822  False  \n",
       "68212  False  \n",
       "9884   False  \n",
       "18149  False  \n",
       "96571  False  \n",
       "44710  False  \n",
       "59940  False  "
      ]
     },
     "execution_count": 33,
     "metadata": {},
     "output_type": "execute_result"
    }
   ],
   "source": [
    "df.head(n=15)"
   ]
  },
  {
   "cell_type": "code",
   "execution_count": 34,
   "metadata": {
    "collapsed": true
   },
   "outputs": [],
   "source": [
    "df.to_csv(path_or_buf=clusters_table, sep='\\t', na_rep='')"
   ]
  },
  {
   "cell_type": "markdown",
   "metadata": {},
   "source": [
    "## Genes"
   ]
  },
  {
   "cell_type": "code",
   "execution_count": 41,
   "metadata": {
    "collapsed": true
   },
   "outputs": [],
   "source": [
    "genes_sum = defaultdict()\n",
    "\n",
    "for gene, value in total_clusters.items(): \n",
    "    result = score_gene(clusters=value, cutoff = 2)\n",
    "    genes_sum[gene] = result"
   ]
  },
  {
   "cell_type": "code",
   "execution_count": 43,
   "metadata": {
    "scrolled": false
   },
   "outputs": [
    {
     "data": {
      "text/html": [
       "<div>\n",
       "<style>\n",
       "    .dataframe thead tr:only-child th {\n",
       "        text-align: right;\n",
       "    }\n",
       "\n",
       "    .dataframe thead th {\n",
       "        text-align: left;\n",
       "    }\n",
       "\n",
       "    .dataframe tbody tr th {\n",
       "        vertical-align: top;\n",
       "    }\n",
       "</style>\n",
       "<table border=\"1\" class=\"dataframe\">\n",
       "  <thead>\n",
       "    <tr style=\"text-align: right;\">\n",
       "      <th></th>\n",
       "      <th>Gene</th>\n",
       "      <th>Length</th>\n",
       "      <th>Clusters</th>\n",
       "      <th>Mutations</th>\n",
       "      <th>Score</th>\n",
       "      <th>CGC</th>\n",
       "    </tr>\n",
       "  </thead>\n",
       "  <tbody>\n",
       "    <tr>\n",
       "      <th>5753</th>\n",
       "      <td>NRAS</td>\n",
       "      <td>571</td>\n",
       "      <td>2</td>\n",
       "      <td>124</td>\n",
       "      <td>52.927713</td>\n",
       "      <td>True</td>\n",
       "    </tr>\n",
       "    <tr>\n",
       "      <th>3132</th>\n",
       "      <td>BRAF</td>\n",
       "      <td>2337</td>\n",
       "      <td>5</td>\n",
       "      <td>269</td>\n",
       "      <td>46.739933</td>\n",
       "      <td>True</td>\n",
       "    </tr>\n",
       "    <tr>\n",
       "      <th>15136</th>\n",
       "      <td>RAC1</td>\n",
       "      <td>640</td>\n",
       "      <td>1</td>\n",
       "      <td>20</td>\n",
       "      <td>11.877612</td>\n",
       "      <td>True</td>\n",
       "    </tr>\n",
       "    <tr>\n",
       "      <th>8269</th>\n",
       "      <td>IDH1</td>\n",
       "      <td>1250</td>\n",
       "      <td>2</td>\n",
       "      <td>23</td>\n",
       "      <td>9.207107</td>\n",
       "      <td>True</td>\n",
       "    </tr>\n",
       "    <tr>\n",
       "      <th>1654</th>\n",
       "      <td>SLC27A5</td>\n",
       "      <td>2080</td>\n",
       "      <td>2</td>\n",
       "      <td>21</td>\n",
       "      <td>8.126845</td>\n",
       "      <td>False</td>\n",
       "    </tr>\n",
       "    <tr>\n",
       "      <th>6979</th>\n",
       "      <td>MAP2K1</td>\n",
       "      <td>1231</td>\n",
       "      <td>3</td>\n",
       "      <td>28</td>\n",
       "      <td>6.419666</td>\n",
       "      <td>True</td>\n",
       "    </tr>\n",
       "    <tr>\n",
       "      <th>8846</th>\n",
       "      <td>RQCD1</td>\n",
       "      <td>1046</td>\n",
       "      <td>2</td>\n",
       "      <td>13</td>\n",
       "      <td>5.801777</td>\n",
       "      <td>False</td>\n",
       "    </tr>\n",
       "    <tr>\n",
       "      <th>4744</th>\n",
       "      <td>BCL2L12</td>\n",
       "      <td>1038</td>\n",
       "      <td>3</td>\n",
       "      <td>23</td>\n",
       "      <td>5.227442</td>\n",
       "      <td>False</td>\n",
       "    </tr>\n",
       "    <tr>\n",
       "      <th>13306</th>\n",
       "      <td>AKR1B1</td>\n",
       "      <td>958</td>\n",
       "      <td>1</td>\n",
       "      <td>9</td>\n",
       "      <td>5.000000</td>\n",
       "      <td>False</td>\n",
       "    </tr>\n",
       "    <tr>\n",
       "      <th>12526</th>\n",
       "      <td>CCDC28A</td>\n",
       "      <td>828</td>\n",
       "      <td>1</td>\n",
       "      <td>13</td>\n",
       "      <td>4.339691</td>\n",
       "      <td>False</td>\n",
       "    </tr>\n",
       "    <tr>\n",
       "      <th>6565</th>\n",
       "      <td>VWC2</td>\n",
       "      <td>978</td>\n",
       "      <td>1</td>\n",
       "      <td>9</td>\n",
       "      <td>4.181983</td>\n",
       "      <td>False</td>\n",
       "    </tr>\n",
       "    <tr>\n",
       "      <th>6254</th>\n",
       "      <td>YIPF1</td>\n",
       "      <td>1005</td>\n",
       "      <td>1</td>\n",
       "      <td>5</td>\n",
       "      <td>4.121320</td>\n",
       "      <td>False</td>\n",
       "    </tr>\n",
       "    <tr>\n",
       "      <th>12549</th>\n",
       "      <td>KIT</td>\n",
       "      <td>2949</td>\n",
       "      <td>2</td>\n",
       "      <td>17</td>\n",
       "      <td>4.000000</td>\n",
       "      <td>True</td>\n",
       "    </tr>\n",
       "    <tr>\n",
       "      <th>7772</th>\n",
       "      <td>AHSP</td>\n",
       "      <td>308</td>\n",
       "      <td>1</td>\n",
       "      <td>11</td>\n",
       "      <td>3.889089</td>\n",
       "      <td>False</td>\n",
       "    </tr>\n",
       "    <tr>\n",
       "      <th>1382</th>\n",
       "      <td>SMPD4</td>\n",
       "      <td>2839</td>\n",
       "      <td>1</td>\n",
       "      <td>8</td>\n",
       "      <td>3.707107</td>\n",
       "      <td>False</td>\n",
       "    </tr>\n",
       "  </tbody>\n",
       "</table>\n",
       "</div>"
      ],
      "text/plain": [
       "          Gene  Length  Clusters  Mutations      Score    CGC\n",
       "5753      NRAS     571         2        124  52.927713   True\n",
       "3132      BRAF    2337         5        269  46.739933   True\n",
       "15136     RAC1     640         1         20  11.877612   True\n",
       "8269      IDH1    1250         2         23   9.207107   True\n",
       "1654   SLC27A5    2080         2         21   8.126845  False\n",
       "6979    MAP2K1    1231         3         28   6.419666   True\n",
       "8846     RQCD1    1046         2         13   5.801777  False\n",
       "4744   BCL2L12    1038         3         23   5.227442  False\n",
       "13306   AKR1B1     958         1          9   5.000000  False\n",
       "12526  CCDC28A     828         1         13   4.339691  False\n",
       "6565      VWC2     978         1          9   4.181983  False\n",
       "6254     YIPF1    1005         1          5   4.121320  False\n",
       "12549      KIT    2949         2         17   4.000000   True\n",
       "7772      AHSP     308         1         11   3.889089  False\n",
       "1382     SMPD4    2839         1          8   3.707107  False"
      ]
     },
     "execution_count": 43,
     "metadata": {},
     "output_type": "execute_result"
    }
   ],
   "source": [
    "genes_table = out+'testing.tab'\n",
    "\n",
    "with open(genes_table, 'w') as fd:\n",
    "    fd.write('Gene\\tLength\\tClusters\\tMutations\\tScore\\n')\n",
    "    for gene, result in genes_sum.items(): \n",
    "        fd.write(\"%s\\t%s\\t%s\\t%s\\t%s\\n\" %(gene, len(total_regions[gene]['genomic']), result[0], len(mutations_d[gene]), result[1]))\n",
    "         \n",
    "df = pd.read_csv(genes_table, sep='\\t', header=0)\n",
    "df['CGC'] = df['Gene'].map(lambda x: x in CGC)\n",
    "df.sort_values(by=['Score', 'CGC'], ascending=[False, False], inplace=True)\n",
    "df.to_csv(path_or_buf=genes_table, sep='\\t', na_rep='')\n",
    "df.head(n=15)"
   ]
  },
  {
   "cell_type": "markdown",
   "metadata": {},
   "source": [
    "### Plot"
   ]
  },
  {
   "cell_type": "code",
   "execution_count": null,
   "metadata": {
    "collapsed": true,
    "scrolled": true
   },
   "outputs": [],
   "source": [
    "# plot clusters \n",
    "\n",
    "gene = 'TP53'\n",
    "plot = out+'/figures/'+gene+'_'+str(genemut)+'_'+str(clustermut)+'_'+str(smoothw)+'_'+str(clusterw)+'_'+str(clusterscore)+'.png'\n",
    "\n",
    "plot_max = np.zeros(len(total_regions[gene]['binary']))\n",
    "plot_min_l = np.zeros(len(total_regions[gene]['binary']))\n",
    "plot_min_r = np.zeros(len(total_regions[gene]['binary']))\n",
    "\n",
    "for key, value in total_clusters[gene].items(): \n",
    "    plot_max[value['max'][0]]+=1\n",
    "    plot_min_l[value['min_l'][0]]+=1\n",
    "    plot_min_r[value['min_r'][0]]+=1\n",
    "\n",
    "# Change 0 to nan for matplotlib        \n",
    "plot_max[ plot_max==0.0 ] = np.nan\n",
    "plot_min_l[ plot_min_l==0.0 ] = np.nan \n",
    "plot_min_r[ plot_min_r==0.0 ] = np.nan\n",
    "\n",
    "\n",
    "if strands_d[gene] == '+':\n",
    "    binary = total_regions[gene]['binary']\n",
    "    mutations = total_regions[gene]['mutations']\n",
    "    \n",
    "elif strands_d[gene] == '-': \n",
    "    binary = total_regions[gene]['binary'][::-1]\n",
    "    mutations = total_regions[gene]['mutations'][::-1]\n",
    "    plot_max = plot_max[::-1]\n",
    "    plot_min_l = plot_min_l[::-1]\n",
    "    plot_min_r = plot_min_r[::-1]\n",
    "\n",
    "plt.figure(figsize=(26, 8))\n",
    "ax1 = plt.subplot2grid((1, 5), (0, 0), colspan=4)\n",
    "\n",
    "\n",
    "ax1.plot(binary, c='cornflowerblue')\n",
    "ax1.set_ylabel('smoothing score', color='cornflowerblue', fontsize=20)\n",
    "\n",
    "ax2 = ax1.twinx()\n",
    "ax2.plot(mutations, c='red')\n",
    "ax2.set_ylabel('n mutations', color='red', fontsize=20)\n",
    "\n",
    "\n",
    "ax1.plot(plot_max,'|', ms=20, c='green')\n",
    "ax1.plot(plot_min_l,'|', ms=20, c='orange')\n",
    "ax1.plot(plot_min_r,'|', ms=20, c='orange')\n",
    "\n",
    "length = len(total_regions[gene]['binary'])\n",
    "\n",
    "ax1.tick_params('y', colors='cornflowerblue', labelsize=15)\n",
    "ax2.tick_params('y', colors='red', labelsize=15)\n",
    "\n",
    "plt.title('TP53 Melanoma', fontsize=20)\n",
    "#ax1.set_xlabel('Nucleotides', fontsize=20)\n",
    "plt.savefig(plot)"
   ]
  },
  {
   "cell_type": "code",
   "execution_count": null,
   "metadata": {
    "collapsed": true
   },
   "outputs": [],
   "source": []
  },
  {
   "cell_type": "code",
   "execution_count": null,
   "metadata": {
    "collapsed": true
   },
   "outputs": [],
   "source": []
  },
  {
   "cell_type": "code",
   "execution_count": null,
   "metadata": {
    "collapsed": true
   },
   "outputs": [],
   "source": []
  }
 ],
 "metadata": {
  "celltoolbar": "Raw Cell Format",
  "kernelspec": {
   "display_name": "Python [conda env:oncodriveclustl]",
   "language": "python",
   "name": "conda-env-oncodriveclustl-py"
  },
  "language_info": {
   "codemirror_mode": {
    "name": "ipython",
    "version": 3
   },
   "file_extension": ".py",
   "mimetype": "text/x-python",
   "name": "python",
   "nbconvert_exporter": "python",
   "pygments_lexer": "ipython3",
   "version": "3.5.3"
  }
 },
 "nbformat": 4,
 "nbformat_minor": 1
}
